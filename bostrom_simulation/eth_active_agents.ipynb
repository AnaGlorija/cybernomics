{
 "cells": [
  {
   "cell_type": "markdown",
   "source": [
    "## Get ETH Active Agents by Date\n",
    "ETH Active Agents are addresses with a balance of more than 0.01 ETH"
   ],
   "metadata": {
    "collapsed": false,
    "pycharm": {
     "name": "#%% md\n"
    }
   }
  },
  {
   "cell_type": "code",
   "execution_count": 1,
   "metadata": {
    "collapsed": true,
    "pycharm": {
     "name": "#%%\n"
    }
   },
   "outputs": [],
   "source": [
    "import pandas as pd\n",
    "from google.cloud import bigquery, bigquery_storage\n",
    "from google.oauth2 import service_account\n",
    "\n",
    "final_ts = '2021-09-01 00:00:00'\n",
    "minimum_balance = 0.01\n",
    "\n",
    "\n",
    "def get_df(query, key_path: str = \"bigquery_project.json\") -> pd.DataFrame:\n",
    "    \"\"\"\n",
    "    Get Pandas DataFrame by SQL query\n",
    "    :param key_path: path of bigquery key file\n",
    "    :param query: SQL query to get data for a DataFrame\n",
    "    :return: DataFrame\n",
    "    \"\"\"\n",
    "    # Construct a BigQuery client object.\n",
    "    credentials = service_account.Credentials.from_service_account_file(\n",
    "        key_path, scopes=[\"https://www.googleapis.com/auth/cloud-platform\"],)\n",
    "    bq_client = bigquery.Client(credentials=credentials, project=credentials.project_id,)\n",
    "    bq_storage_client = bigquery_storage.BigQueryReadClient(credentials=credentials)\n",
    "    # Execute query\n",
    "    return bq_client.query(query).result().to_dataframe(bqstorage_client=bq_storage_client)"
   ]
  },
  {
   "cell_type": "code",
   "execution_count": null,
   "outputs": [],
   "source": [
    "query_1 = f'''\n",
    "WITH double_entry_book AS (\n",
    "     -- debits\n",
    "     SELECT\n",
    "          to_address AS address,\n",
    "          DATE(block_timestamp) as block_date,\n",
    "          value as value\n",
    "     FROM `bigquery-public-data.crypto_ethereum.traces`\n",
    "     WHERE block_timestamp < '{final_ts}'\n",
    "       AND to_address is not null\n",
    "       AND status = 1\n",
    "       AND (call_type not in ('delegatecall', 'callcode', 'staticcall') OR call_type is null)\n",
    "     UNION ALL\n",
    "     -- credits\n",
    "     SELECT\n",
    "          from_address AS address,\n",
    "          DATE(block_timestamp) as block_date,\n",
    "          -value AS value\n",
    "     FROM `bigquery-public-data.crypto_ethereum.traces`\n",
    "     WHERE block_timestamp < '{final_ts}'\n",
    "       AND from_address is not null\n",
    "       AND status = 1\n",
    "       AND (call_type not in ('delegatecall', 'callcode', 'staticcall') OR call_type is null)\n",
    "     UNION ALL\n",
    "     -- transaction fees debits\n",
    "     SELECT\n",
    "          miner AS address,\n",
    "          DATE(block_timestamp) as block_date,\n",
    "          cast(receipt_gas_used AS numeric) * cast(gas_price AS numeric) AS value\n",
    "     FROM `bigquery-public-data.crypto_ethereum.transactions` AS transactions\n",
    "     INNER JOIN `bigquery-public-data.crypto_ethereum.blocks` AS blocks ON blocks.number = transactions.block_number\n",
    "     WHERE block_timestamp < '{final_ts}'\n",
    "     UNION ALL\n",
    "     -- transaction fees credits\n",
    "     SELECT\n",
    "          from_address AS address,\n",
    "          DATE(block_timestamp) as block_date,\n",
    "          -(cast(receipt_gas_used AS numeric) * cast(gas_price AS numeric)) AS value\n",
    "     FROM `bigquery-public-data.crypto_ethereum.transactions`\n",
    "     WHERE block_timestamp < '{final_ts}'\n",
    "),\n",
    "-- zero balances for correct calculation\n",
    "zero_balances as (\n",
    "    SELECT\n",
    "        address,\n",
    "        block_date,\n",
    "        0 as value\n",
    "    FROM (\n",
    "            SELECT\n",
    "                address,\n",
    "                min(block_date) as min_block_date,\n",
    "                max(block_date) as max_block_date,\n",
    "                sum(value) as final_value\n",
    "            FROM double_entry_book\n",
    "            GROUP BY address) as addresses,\n",
    "          UNNEST(GENERATE_DATE_ARRAY('2015-07-30', DATE('{final_ts}'))) AS block_date\n",
    "    WHERE block_date>=min_block_date\n",
    "      AND (final_value > 0.01 OR block_date <= max_block_date)\n",
    "),\n",
    "double_entry_book_with_zero_balances as (\n",
    "     SELECT\n",
    "          address,\n",
    "          block_date,\n",
    "          value\n",
    "     FROM double_entry_book\n",
    "\n",
    "     UNION ALL\n",
    "\n",
    "     SELECT\n",
    "          address,\n",
    "          block_date,\n",
    "          value\n",
    "     FROM zero_balances\n",
    ")\n",
    "SELECT\n",
    "     block_date,\n",
    "     sum(eth_balance) as total_eth_balance,\n",
    "     count(address) as number_of_addresses\n",
    "FROM (\n",
    "     SELECT\n",
    "          address,\n",
    "          block_date,\n",
    "          sum(eth_balance_change_daily) OVER (PARTITION BY address ORDER BY block_date) AS eth_balance\n",
    "     FROM (\n",
    "          SELECT\n",
    "               address,\n",
    "               block_date,\n",
    "               sum(value)/1e18  AS eth_balance_change_daily\n",
    "          FROM double_entry_book_with_zero_balances\n",
    "          GROUP BY address, block_date)\n",
    "     )\n",
    "WHERE eth_balance > {minimum_balance}\n",
    "GROUP BY block_date\n",
    "ORDER BY block_date\n",
    "'''\n",
    "active_agents_by_date_df = get_df(query_1)\n",
    "active_agents_by_date_df.to_csv('data/eth_active_agents.csv')\n",
    "print(active_agents_by_date_df.head())"
   ],
   "metadata": {
    "collapsed": false,
    "pycharm": {
     "name": "#%%\n"
    }
   }
  }
 ],
 "metadata": {
  "kernelspec": {
   "display_name": "Python 3",
   "language": "python",
   "name": "python3"
  },
  "language_info": {
   "codemirror_mode": {
    "name": "ipython",
    "version": 2
   },
   "file_extension": ".py",
   "mimetype": "text/x-python",
   "name": "python",
   "nbconvert_exporter": "python",
   "pygments_lexer": "ipython2",
   "version": "2.7.6"
  }
 },
 "nbformat": 4,
 "nbformat_minor": 0
}
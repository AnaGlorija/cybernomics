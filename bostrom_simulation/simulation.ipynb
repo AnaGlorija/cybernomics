{
 "cells": [
  {
   "cell_type": "markdown",
   "metadata": {},
   "source": [
    "# Bostrom supply simulation\n",
    "---"
   ]
  },
  {
   "cell_type": "markdown",
   "metadata": {},
   "source": [
    "## A/B simulations params (depricated)\n",
    "\n",
    "\n",
    "| Param name | Simulation A | Simulation B|\n",
    "|:---|---:|---:|\n",
    "|Liquid Tokens (T)|200,000,000,000,000|200,000,000,000,000|\n",
    "|Frozen Tokens (F)|700,000,000,000,000|700,000,000,000,000|\n",
    "|Vested Tokens (L)|100,000,000,000,000|100,000,000,000,000|\n",
    "|Initial inflation |5.00|5.00|\n",
    "|Amper Mint Rate init|50.00|50.00|\n",
    "|Volt Mint Rate init|100.00|100.00|\n",
    "|Inflation rate change|13.00|13.00|\n",
    "|Inflation min|1.00|1.00|\n",
    "|Inflation max|15.00|15.00|\n",
    "|Goal vested|80.00|80.00|\n",
    "|Volt halving|1,000,000.00|1,000,000.00|\n",
    "|Resource token init price|100,000,000.00|100,000,000.00|"
   ]
  },
  {
   "cell_type": "code",
   "execution_count": null,
   "metadata": {},
   "outputs": [],
   "source": [
    "import time\n",
    "\n",
    "# Standard libraries: https://docs.python.org/3/library/\n",
    "import math\n",
    "\n",
    "# Analysis and plotting modules\n",
    "import pandas as pd"
   ]
  },
  {
   "cell_type": "markdown",
   "metadata": {},
   "source": [
    "## Initial state"
   ]
  },
  {
   "cell_type": "code",
   "execution_count": null,
   "metadata": {},
   "outputs": [],
   "source": [
    "simPeriod = 10          # amount of years for simulating\n",
    "unitsPerYear = 365        # units per year(days)"
   ]
  },
  {
   "cell_type": "code",
   "execution_count": null,
   "metadata": {},
   "outputs": [],
   "source": [
    "initial_state = {\n",
    "    'T': 200_000_000_000_000,\n",
    "    'F': 700_000_000_000_000,\n",
    "    'L': 100_000_000_000_000,\n",
    "    'A': 0,\n",
    "    'V': 0,\n",
    "    'I_r': 0.10,\n",
    "    'd_l': 0,\n",
    "    'MRa': 50,\n",
    "    'MRv': 100,\n",
    "    'CL': 0,\n",
    "    'maxVestingTime': math.floor(unitsPerYear / 2),\n",
    "    'agents_amount': 1000\n",
    "}"
   ]
  },
  {
   "cell_type": "code",
   "execution_count": null,
   "metadata": {},
   "outputs": [],
   "source": [
    "# cadCAD configuration modules\n",
    "from cadCAD.configuration.utils import config_sim\n",
    "from cadCAD.configuration import Experiment\n",
    "\n",
    "# cadCAD simulation engine modules\n",
    "from cadCAD.engine import ExecutionMode, ExecutionContext\n",
    "from cadCAD.engine import Executor\n",
    "\n",
    "from collections import Counter\n",
    "from cadCAD import configs\n",
    "\n",
    "# custom functions modules\n",
    "\n",
    "from utils.psub import partial_state_update_blocks"
   ]
  },
  {
   "cell_type": "markdown",
   "metadata": {},
   "source": [
    "## Params for simulating"
   ]
  },
  {
   "cell_type": "code",
   "execution_count": null,
   "metadata": {},
   "outputs": [],
   "source": [
    "import itertools\n",
    "\n",
    "vestingSpeed = [3, 6, 12, 18, 24, 30, 36]\n",
    "unvestingSpeed = [72, 60, 48, 36, 30, 24]\n",
    "\n",
    "parameter_sweep = list(itertools.product(vestingSpeed, unvestingSpeed))\n",
    "\n",
    "vestingSpeed = [x[0] for x in parameter_sweep]\n",
    "unvestingSpeed = [x[1] for x in parameter_sweep]"
   ]
  },
  {
   "cell_type": "code",
   "execution_count": null,
   "metadata": {},
   "outputs": [],
   "source": [
    "system_params = {\n",
    "    'inflationRateChange': [0.07], # maximum inflation rate change per year\n",
    "    'inflationMin': [0.05], # minimum percent of the inflation\n",
    "    'inflationMax': [0.20], # maximum percent of the inflation\n",
    "    'goalVested': [0.70], # desireable ratio between vested tokens and tokens supply\n",
    "    'unitsPerYear': [unitsPerYear], # units per year(minutes)\n",
    "    'vestingSpeed': vestingSpeed, # amount of months to vest all liquid tokens\n",
    "    'unvestingSpeed': unvestingSpeed, # amount of months to uninvest all vested tokens\n",
    "    'voltHalving': [10_000_000], # 10 MegaVolt\n",
    "    'MRa': [50], # initial mint rate for Amperes\n",
    "    'MRv': [100], # initial mint rate for Voltes\n",
    "    'base_vesting_resource': [100_000_000], # initial cost for resource token in 1 cycle\n",
    "    'baseVestingTime': [math.floor(unitsPerYear / 12)],\n",
    "    'boot_bonded': [0.7],\n",
    "    'extra_links': [100],\n",
    "    'guaranted_links': [100],\n",
    "    'gift_activation': [math.floor(unitsPerYear / 3.65)],\n",
    "    'start_agents_count': [1000],\n",
    "    'capitalization_per_user': [1]\n",
    "}"
   ]
  },
  {
   "cell_type": "code",
   "execution_count": null,
   "metadata": {},
   "outputs": [],
   "source": [
    "del configs[:]\n",
    "experiment = Experiment()\n",
    "\n",
    "sim_config = config_sim({\n",
    "    'N': 1,\n",
    "    'T': range(int(math.ceil(simPeriod * unitsPerYear))),\n",
    "    'M': system_params\n",
    "})\n",
    "\n",
    "experiment.append_configs(\n",
    "    initial_state = initial_state,\n",
    "    partial_state_update_blocks = partial_state_update_blocks,\n",
    "    sim_configs = sim_config\n",
    ")"
   ]
  },
  {
   "cell_type": "code",
   "execution_count": null,
   "metadata": {
    "scrolled": false
   },
   "outputs": [],
   "source": [
    "exec_context = ExecutionContext()\n",
    "\n",
    "simulation = Executor(exec_context=exec_context, configs=configs)\n",
    "raw_result, tensor_field, sessions = simulation.execute()"
   ]
  },
  {
   "cell_type": "code",
   "execution_count": null,
   "metadata": {},
   "outputs": [],
   "source": [
    "start_time = time.time()\n",
    "simulation_result = pd.DataFrame(raw_result)\n",
    "print(\"--- %s seconds ---\" % (time.time() - start_time))"
   ]
  },
  {
   "cell_type": "code",
   "execution_count": null,
   "metadata": {},
   "outputs": [],
   "source": [
    "start_time = time.time()"
   ]
  },
  {
   "cell_type": "code",
   "execution_count": null,
   "metadata": {},
   "outputs": [],
   "source": [
    "df = simulation_result.copy()\n",
    "df['Supply'] = df['T'] + df['F'] + df['L']\n",
    "df['AmPrice'] = df['A'] / df['V']\n",
    "df"
   ]
  },
  {
   "cell_type": "code",
   "execution_count": null,
   "metadata": {},
   "outputs": [],
   "source": [
    "df"
   ]
  },
  {
   "cell_type": "code",
   "execution_count": null,
   "metadata": {},
   "outputs": [],
   "source": [
    "# save local model file for power bi\n",
    "# import pyarrow as pa\n",
    "# import pyarrow.parquet as pq\n",
    "# table = pa.Table.from_pandas(df)\n",
    "# pq.write_table(table, 'simulation.parquet')"
   ]
  },
  {
   "cell_type": "code",
   "execution_count": null,
   "metadata": {},
   "outputs": [],
   "source": [
    "from utils.plots import linear_plot, scatter_plot, df_preparator"
   ]
  },
  {
   "cell_type": "code",
   "execution_count": null,
   "metadata": {},
   "outputs": [],
   "source": [
    "plot_df = df_preparator(df)"
   ]
  },
  {
   "cell_type": "markdown",
   "metadata": {},
   "source": [
    "## Inflation"
   ]
  },
  {
   "cell_type": "code",
   "execution_count": null,
   "metadata": {
    "scrolled": false
   },
   "outputs": [],
   "source": [
    "scatter_plot(plot_df, \"I_r\", render='sns')"
   ]
  },
  {
   "cell_type": "markdown",
   "metadata": {},
   "source": [
    "## Supply"
   ]
  },
  {
   "cell_type": "code",
   "execution_count": null,
   "metadata": {},
   "outputs": [],
   "source": [
    "scatter_plot(plot_df, 'Supply', render='sns')"
   ]
  },
  {
   "cell_type": "markdown",
   "metadata": {},
   "source": [
    "## Vested"
   ]
  },
  {
   "cell_type": "code",
   "execution_count": null,
   "metadata": {},
   "outputs": [],
   "source": [
    "scatter_plot(plot_df, 'L', render='sns')"
   ]
  },
  {
   "cell_type": "markdown",
   "metadata": {},
   "source": [
    "## Ampler tokens supply"
   ]
  },
  {
   "cell_type": "code",
   "execution_count": null,
   "metadata": {},
   "outputs": [],
   "source": [
    "scatter_plot(plot_df, 'A', render='sns')"
   ]
  },
  {
   "cell_type": "markdown",
   "metadata": {},
   "source": [
    "## Volt tokens supply"
   ]
  },
  {
   "cell_type": "code",
   "execution_count": null,
   "metadata": {},
   "outputs": [],
   "source": [
    "scatter_plot(plot_df, 'V', render='sns')"
   ]
  },
  {
   "cell_type": "markdown",
   "metadata": {},
   "source": [
    "## Mint Rate Volter-Amper"
   ]
  },
  {
   "cell_type": "code",
   "execution_count": null,
   "metadata": {},
   "outputs": [],
   "source": [
    "# linear_plot(plot_df, ['MRa', 'MRv'], render='sns')"
   ]
  },
  {
   "cell_type": "markdown",
   "metadata": {},
   "source": [
    "## Max vesting time"
   ]
  },
  {
   "cell_type": "code",
   "execution_count": null,
   "metadata": {},
   "outputs": [],
   "source": [
    "linear_plot(plot_df, 'maxVestingTime', render='sns')"
   ]
  },
  {
   "cell_type": "markdown",
   "metadata": {},
   "source": [
    "## Ratio between amper supply and volt supply"
   ]
  },
  {
   "cell_type": "code",
   "execution_count": null,
   "metadata": {
    "scrolled": false
   },
   "outputs": [],
   "source": [
    "scatter_plot(plot_df, 'AmPrice', render='sns')"
   ]
  },
  {
   "cell_type": "markdown",
   "metadata": {},
   "source": [
    "## Cyberlinks"
   ]
  },
  {
   "cell_type": "code",
   "execution_count": null,
   "metadata": {
    "scrolled": false
   },
   "outputs": [],
   "source": [
    "scatter_plot(plot_df, 'CL', render='sns')"
   ]
  },
  {
   "cell_type": "markdown",
   "metadata": {},
   "source": [
    "## Agents amount"
   ]
  },
  {
   "cell_type": "code",
   "execution_count": null,
   "metadata": {
    "scrolled": false
   },
   "outputs": [],
   "source": [
    "scatter_plot(plot_df, 'agents_amount', render='sns')"
   ]
  },
  {
   "cell_type": "markdown",
   "metadata": {},
   "source": [
    "## Cap in ETH"
   ]
  },
  {
   "cell_type": "code",
   "execution_count": null,
   "metadata": {},
   "outputs": [],
   "source": [
    "scatter_plot(plot_df, 'cap_in_eth', render='sns')"
   ]
  },
  {
   "cell_type": "code",
   "execution_count": null,
   "metadata": {},
   "outputs": [],
   "source": [
    "print(\"--- %s seconds ---\" % (time.time() - start_time))"
   ]
  }
 ],
 "metadata": {
  "kernelspec": {
   "display_name": "Python 3",
   "language": "python",
   "name": "python3"
  },
  "language_info": {
   "codemirror_mode": {
    "name": "ipython",
    "version": 3
   },
   "file_extension": ".py",
   "mimetype": "text/x-python",
   "name": "python",
   "nbconvert_exporter": "python",
   "pygments_lexer": "ipython3",
   "version": "3.8.0"
  }
 },
 "nbformat": 4,
 "nbformat_minor": 4
}

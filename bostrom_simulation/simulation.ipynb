{
 "cells": [
  {
   "cell_type": "markdown",
   "metadata": {},
   "source": [
    "# Bostrom supply simulation\n",
    "\n",
    "---"
   ]
  },
  {
   "cell_type": "markdown",
   "metadata": {},
   "source": [
    "## Rationale\n",
    "\n",
    "There are three network tokens:\n",
    "\n",
    "* T - liquid network token\n",
    "* V - vested network token\n",
    "* F - not claimed(frozen) network token\n",
    "\n",
    "and two energy tokens:\n",
    "\n",
    "* Am - Amper token\n",
    "* Vo - Volt token\n",
    "\n",
    "The initial state of all tokens should be defined below\n",
    "\n",
    "* 1 **timestep** == 1 network block\n",
    "\n",
    "## Claim function\n",
    "\n",
    "The function of claim frozen tokens is:\n",
    "\n",
    "\\begin{gather}\n",
    "\\\\\n",
    "f(x) = -2.9 \\cdot 10^7x + 7 \\cdot 10^{14} \\\\\n",
    "\\\\\n",
    "\\end{gather}\n",
    "\n",
    "![](./images/claim.png)\n",
    "\n",
    "where **x** is network block. This function means 80% of frozen tokens are going to be claimed in 3 years linearly by 29,000,000 tokens per block.\n",
    "\n",
    "## Vesting and Unvesting\n",
    "\n",
    "The vesting function is defined as the number of blocks in months for vesting all liquid tokens. This function recalculates every block.\n",
    "\n",
    "The vesting function is defined as the number of blocks in months for investing all vested tokens. This function recalculates every block.\n",
    "\n",
    "## Energy tokens\n",
    "\n",
    "Amperes and Volts mints by the following formula:\n",
    "\n",
    "\\begin{gather}\n",
    "\\\\\n",
    "f(x) = \\frac{x \\cdot * lockTime/cycle}{1000000} \\cdot MR \\\\\n",
    "\\\\\n",
    "\\end{gather}\n",
    "\n",
    "where: \n",
    "* **x** is number of vested tokens\n",
    "* **lockTime** is time fot locking tokens\n",
    "* **cycle** is amount of blocks for rank and entropy calculation\n",
    "* **MR** is mint rate [100, 0)\n",
    "\n",
    "## Mint Rate\n",
    "\n",
    "Mint rate is multiple coefficient for minting energy tokens\n",
    "\n",
    "|A|B|\n",
    "|:---:|:---:|\n",
    "|\\begin{gather}\n",
    "\\\\\n",
    "MR_A(x) = 100 \\cdot e^{-6.93147 \\cdot 10^{-16}x} \\\\\n",
    "\\\\\n",
    "\\end{gather}|\\begin{gather}\n",
    "\\\\\n",
    "MR_B(x) = 100 - \\frac{11x}{4908960} \\\\\n",
    "\\\\\n",
    "\\end{gather}|\n",
    "|**x** is energy token supply| **x** is network block|\n",
    "|![](./images/MR_A.png)|![](./images/MR_B.png)|\n",
    "|This function provides a double decrease of MR  every 10^15 energy tokens supply| This function provides a linearly decrease of MR from 100 to 1 in 7 years (44,180,640 blocks)|\n",
    "\n",
    "\n",
    "## Inflation\n",
    "\n",
    "The inflation function depends on the ratio between vested tokens and tokens supply. It the same as in cosmos-based networks. \n",
    "\n",
    "## Supply\n",
    "\n",
    "Supply is the sum of liquid, vested and frozen tokens in each block.\n",
    "\n",
    "## Assumptions\n",
    "\n",
    "1. All agents lock tokens for the maximum available period defined in params for simulating\n",
    "2. All agents mint maximum **Am** and **Vo** tokens in 50/50 ratio"
   ]
  },
  {
   "cell_type": "markdown",
   "metadata": {},
   "source": [
    "## Initial state"
   ]
  },
  {
   "cell_type": "code",
   "execution_count": 1,
   "metadata": {},
   "outputs": [],
   "source": [
    "tokens = 200_000_000_000_000 # Unfreeze and unvested liquid network tokens\n",
    "frozen = 700_000_000_000_000 # Waiting for claim liquid network tokens\n",
    "vested = 100_000_000_000_000 # Vested tokens according to genesis ceremony\n",
    "init_inflation = 0.01        # Start inflation"
   ]
  },
  {
   "cell_type": "markdown",
   "metadata": {},
   "source": [
    "## Params for simulating"
   ]
  },
  {
   "cell_type": "code",
   "execution_count": 2,
   "metadata": {},
   "outputs": [],
   "source": [
    "inflation_rate_change = [0.13] # maximum inflation rate change per year\n",
    "inflation_min = [0.01]         # minimum percent of the inflation\n",
    "inflation_max = [0.15]         # minimum percent of the inflation\n",
    "goal_vested = [0.88]           # desireable ratio between vested tokens and tokens supply\n",
    "blocks_per_year = [6_311_520]  # desireable amount of blocks per year\n",
    "max_vesting_time = [1_577_880] # max amount of blocks for locking\n",
    "vesting_speed = [2]            # amount of months to vest all liquid tokens\n",
    "unvesting_speed = [60]         # amount of months to uninvest all vested tokens \n",
    "cycle = [5]                    # amount of blocks for rank and entropy recalculating\n",
    "\n",
    "sim_period = 12 * 2            # amount of months for simulating"
   ]
  },
  {
   "cell_type": "markdown",
   "metadata": {},
   "source": [
    "## Mathematical Specification"
   ]
  },
  {
   "cell_type": "markdown",
   "metadata": {},
   "source": [
    "### Differential Equations\n",
    "\n",
    "* T - liquid network token\n",
    "* V - vested network token\n",
    "* F - not claimed(frozen) network token\n",
    "* IRC_b - inflation rate change per block\n",
    "* S - total network tokens supply\n",
    "* I - inflation per block in network tokens\n",
    "* BlockProvision - per block token provision\n",
    "* Am - Amper token\n",
    "* Vo - Volt token\n",
    "\n",
    "\\begin{gather}\n",
    "\\\\\n",
    "T_b = T_{b-1} + {\\Delta T} \\tag{1} \\\\\n",
    "V_b = V_{b-1} + {\\Delta V} \\tag{2} \\\\\n",
    "F_b = F_{b-1} + {\\Delta F} \\tag{3} \\\\\n",
    "Am_b = Am_{b-1} + {\\Delta Am} \\tag{4} \\\\\n",
    "Vo_b = Vo_{b-1} + {\\Delta Vo} \\tag{5} \\\\\n",
    "MR_{b}^A = {\\Delta MR^A} \\tag{6} \\\\\n",
    "MR_{b}^B = MR_{b-1}^B+ {\\Delta MR^B} \\tag{7} \\\\\n",
    "S_b = T_b + V_b + F_b \\tag{8} \\\\ \n",
    "\\\\\n",
    "\\end{gather}\n",
    "\n",
    "where the rate of change ($\\Delta$) is:\n",
    "\\begin{gather}\n",
    "\\\\\n",
    "{\\Delta F} = -29000000 \\tag{9} \\\\ \\\\\n",
    "{\\Delta V} = \\frac{T_{b-1}}{(blocksPerYear*(1/12 \\cdot vestingSpeed)} - {\\Delta U} \\tag{10} \\\\ \\\\\n",
    "{\\Delta T} = - {\\Delta F} - {\\Delta V} + I_{b-1} + {\\Delta U}  \\tag{11} \\\\ \\\\\n",
    "{\\Delta Am} = \\frac{{\\Delta V} * \\frac{maxVestingTime}{cycle}}{2 * 1000000} \\cdot MR  \\tag{12} \\\\ \\\\\n",
    "{\\Delta Vo} = \\frac{{\\Delta V} * \\frac{maxVestingTime}{cycle}}{2 * 1000000} \\cdot MR  \\tag{13} \\\\ \\\\\n",
    "{\\Delta U} = \\frac{V_{b-1}}{(blocksPerYear*(1/12 \\cdot unvestingSpeed)} \\tag{14} \\\\ \\\\\n",
    "{\\Delta MR^A} = 100 \\cdot e^{-6.93147 \\cdot 10^{-16}x} \\tag{15} \\\\ \\\\\n",
    "{\\Delta MR^B} = - \\frac{11}{4908960} \\tag{16} \\\\ \\\\\n",
    "\\\\\n",
    "\\end{gather}\n",
    "\n",
    "where:\n",
    "\\begin{gather}\n",
    "\\\\\n",
    "I_{b-1} = \\frac{S_{b-1} \\cdot IRC_{b-1}}{blocksPerYear} \\tag{17} \\\\ \\\\\n",
    "IRC_b = \\frac{\\left(1 - \\frac{vestedRatio_{b-1}}{goalVested}\\right) \\cdot inflationRateChange}{blocksPerYear} \\tag{18} \\\\\n",
    "\\\\\n",
    "\\end{gather}"
   ]
  },
  {
   "cell_type": "code",
   "execution_count": 3,
   "metadata": {},
   "outputs": [],
   "source": [
    "import time\n",
    "\n",
    "# Standard libraries: https://docs.python.org/3/library/\n",
    "import math\n",
    "\n",
    "# Analysis and plotting modules\n",
    "import pandas as pd\n",
    "# import plotly"
   ]
  },
  {
   "cell_type": "code",
   "execution_count": 4,
   "metadata": {},
   "outputs": [],
   "source": [
    "# cadCAD configuration modules\n",
    "from cadCAD.configuration.utils import config_sim\n",
    "from cadCAD.configuration import Experiment\n",
    "\n",
    "# cadCAD simulation engine modules\n",
    "from cadCAD.engine import ExecutionMode, ExecutionContext\n",
    "from cadCAD.engine import Executor\n",
    "\n",
    "from collections import Counter\n",
    "from cadCAD import configs"
   ]
  },
  {
   "cell_type": "code",
   "execution_count": 5,
   "metadata": {},
   "outputs": [],
   "source": [
    "initial_state = {\n",
    "    'T':   tokens,\n",
    "    'F':   frozen,\n",
    "    'V':   vested,\n",
    "    'Am': 0,\n",
    "    'Vo': 0,\n",
    "    'd_u': 0,\n",
    "    'I_r': init_inflation,\n",
    "    'd_v': 0,\n",
    "    'MR': 100\n",
    "}\n",
    "\n",
    "system_params = {\n",
    "    'inflationRateChange': inflation_rate_change,\n",
    "    'inflationMin': inflation_min,\n",
    "    'inflationMax': inflation_max,\n",
    "    'goalVested': goal_vested,\n",
    "    'blocksPerYear': blocks_per_year,\n",
    "    'maxVestingTime': max_vesting_time,\n",
    "    'vestingSpeed': vesting_speed,\n",
    "    'unvestingSpeed': unvesting_speed,\n",
    "    'cycle': cycle\n",
    "}"
   ]
  },
  {
   "cell_type": "markdown",
   "metadata": {},
   "source": [
    "Adapting to use **policy functions** to drive the process, and **state update functions** to update the state according to the **differential specification**:"
   ]
  },
  {
   "cell_type": "code",
   "execution_count": 6,
   "metadata": {},
   "outputs": [],
   "source": [
    "def p_inflation(params, substep, state_history, previous_state):\n",
    "    S = previous_state['T'] + previous_state['F'] + previous_state['V']\n",
    "    V_r = previous_state['V']/S\n",
    "    IRC = (1 - (V_r/params['goalVested'])) * params['inflationRateChange']\n",
    "    IRC = IRC / params['blocksPerYear']\n",
    "    return {'IRC': IRC}\n",
    "\n",
    "def p_blockProvision(params, substep, state_history, previous_state):\n",
    "    S = previous_state['T'] + previous_state['F'] + previous_state['V']\n",
    "    V_r = previous_state['V'] / S\n",
    "    IRC = ((1 - V_r/params['goalVested']) * params['inflationRateChange']) / params['blocksPerYear']\n",
    "    I_r = previous_state['I_r'] + IRC\n",
    "    if I_r > params['inflationMax']:\n",
    "        I_r = params['inflationMax']\n",
    "    elif I_r < params['inflationMin']:\n",
    "        I_r = params['inflationMin']\n",
    "    I_p = (S * I_r) / params['blocksPerYear']\n",
    "    return {'block_provision': math.ceil(I_p)}\n",
    "\n",
    "def p_claim(params, substep, state_history, previous_state):\n",
    "    delta_f = -29_000_000\n",
    "    if previous_state['F'] <= 0:\n",
    "        delta_f = 0\n",
    "    return {'delta_F': delta_f}\n",
    "\n",
    "def p_vest(params, substep, state_history, previous_state):\n",
    "    investmint = previous_state['T']/(params['blocksPerYear'] * ((1/12) * params['vestingSpeed']))\n",
    "    return {'delta_V': math.ceil(investmint)}\n",
    "\n",
    "def p_unvest(params, substep, state_history, previous_state):\n",
    "    if previous_state['timestep'] <= params['maxVestingTime']:\n",
    "        uninvestmint = 0\n",
    "    else:\n",
    "        uninvestmint = previous_state['V']/(params['blocksPerYear'] * ((1/12) * params['unvestingSpeed']))\n",
    "    return {'delta_U': math.ceil(uninvestmint)}\n",
    "\n",
    "def p_mr_a(params, substep, state_history, previous_state):\n",
    "    d_mr = 100 * math.exp(-6.93147 * 10**(-16) * previous_state['Am'])\n",
    "    return {'delta_MR': d_mr}\n",
    "\n",
    "def p_mr_b(params, substep, state_history, previous_state):\n",
    "    d_mr = -11/4908960\n",
    "    return {'delta_MR': d_mr}"
   ]
  },
  {
   "cell_type": "code",
   "execution_count": 7,
   "metadata": {},
   "outputs": [],
   "source": [
    "def s_I_r(params, substep, state_history, previous_state, policy_input):\n",
    "    I_r = previous_state['I_r'] + policy_input['IRC']\n",
    "    if I_r > params['inflationMax']:\n",
    "        I_r = params['inflationMax']\n",
    "    elif I_r < params['inflationMin']:\n",
    "        I_r = params['inflationMin']\n",
    "    return 'I_r', I_r\n",
    "\n",
    "def s_F(params, substep, state_history, previous_state, policy_input):\n",
    "    F = previous_state['F'] + policy_input['delta_F']\n",
    "    if F < 0:\n",
    "        F = 0\n",
    "    return 'F', F\n",
    "\n",
    "def s_V(params, substep, state_history, previous_state, policy_input):\n",
    "    V = previous_state['V'] + policy_input['delta_V'] - policy_input['delta_U']\n",
    "    return 'V', V\n",
    "\n",
    "def s_T(params, substep, state_history, previous_state, policy_input):\n",
    "    T = previous_state['T'] - policy_input['delta_F'] - policy_input['delta_V'] + policy_input['block_provision'] + policy_input['delta_U']\n",
    "    return 'T', T\n",
    "\n",
    "def s_d_u(params, substep, state_history, previous_state, policy_input):\n",
    "    return 'd_u', policy_input['delta_U']\n",
    "\n",
    "def s_d_v(params, substep, state_history, previous_state, policy_input):\n",
    "    return 'd_v', policy_input['delta_V']\n",
    "\n",
    "def s_am(params, substep, state_history, previous_state, policy_input):\n",
    "    am = previous_state['Am'] + ((policy_input['delta_V'] * (params['maxVestingTime']/params['cycle'])) / 2_000_000) * (previous_state['MR']/100)\n",
    "    return 'Am', am\n",
    "\n",
    "def s_vo(params, substep, state_history, previous_state, policy_input):\n",
    "    vo = previous_state['Vo'] + ((policy_input['delta_V'] * (params['maxVestingTime']/params['cycle'])) / 2_000_000) * (previous_state['MR']/100)\n",
    "    return 'Vo', vo\n",
    "\n",
    "def s_mr_a(params, substep, state_history, previous_state, policy_input):\n",
    "    mr = policy_input['delta_MR']\n",
    "    return 'MR', mr\n",
    "\n",
    "def s_mr_b(params, substep, state_history, previous_state, policy_input):\n",
    "    mr = previous_state['MR'] + policy_input['delta_MR']\n",
    "    if mr < 1:\n",
    "        mr = 1\n",
    "    return 'MR', mr\n",
    "    "
   ]
  },
  {
   "cell_type": "code",
   "execution_count": 8,
   "metadata": {},
   "outputs": [],
   "source": [
    "del configs[:]\n",
    "experiment = Experiment()\n",
    "\n",
    "sim_config = config_sim({\n",
    "    'N': 1,\n",
    "    'T': range(int(math.ceil((6311520/12) * sim_period))),\n",
    "    'M': system_params\n",
    "})"
   ]
  },
  {
   "cell_type": "code",
   "execution_count": 9,
   "metadata": {},
   "outputs": [],
   "source": [
    "partial_state_update_blocks = [\n",
    "    {\n",
    "        'policies': {\n",
    "            'IRC': p_inflation,\n",
    "            'block_provision': p_blockProvision, \n",
    "            'delta_F': p_claim, \n",
    "            'delta_V': p_vest,\n",
    "            'delta_U': p_unvest,\n",
    "            'delta_MR': p_mr_a\n",
    "        },\n",
    "        'variables': {\n",
    "            'I_r': s_I_r,\n",
    "            'F': s_F,\n",
    "            'V': s_V,\n",
    "            'T': s_T,\n",
    "            'd_u': s_d_u,\n",
    "            'd_v': s_d_v,\n",
    "            'Am': s_am,\n",
    "            'Vo': s_vo,\n",
    "            'MR': s_mr_a\n",
    "        }\n",
    "    }\n",
    "]\n",
    "\n",
    "experiment.append_configs(\n",
    "    initial_state = initial_state,\n",
    "    partial_state_update_blocks = partial_state_update_blocks,\n",
    "    sim_configs = sim_config\n",
    ")"
   ]
  },
  {
   "cell_type": "code",
   "execution_count": 10,
   "metadata": {},
   "outputs": [],
   "source": [
    "partial_state_update_blocks = [\n",
    "    {\n",
    "        'policies': {\n",
    "            'IRC': p_inflation,\n",
    "            'block_provision': p_blockProvision, \n",
    "            'delta_F': p_claim, \n",
    "            'delta_V': p_vest,\n",
    "            'delta_U': p_unvest,\n",
    "            'delta_MR': p_mr_b\n",
    "        },\n",
    "        'variables': {\n",
    "            'I_r': s_I_r,\n",
    "            'F': s_F,\n",
    "            'V': s_V,\n",
    "            'T': s_T,\n",
    "            'd_u': s_d_u,\n",
    "            'd_v': s_d_v,\n",
    "            'Am': s_am,\n",
    "            'Vo': s_vo,\n",
    "            'MR': s_mr_b\n",
    "        }\n",
    "    }\n",
    "]\n",
    "\n",
    "experiment.append_configs(\n",
    "    initial_state = initial_state,\n",
    "    partial_state_update_blocks = partial_state_update_blocks,\n",
    "    sim_configs = sim_config\n",
    ")"
   ]
  },
  {
   "cell_type": "code",
   "execution_count": 11,
   "metadata": {},
   "outputs": [
    {
     "name": "stdout",
     "output_type": "stream",
     "text": [
      "\n",
      "                  ___________    ____\n",
      "  ________ __ ___/ / ____/   |  / __ \\\n",
      " / ___/ __` / __  / /   / /| | / / / /\n",
      "/ /__/ /_/ / /_/ / /___/ ___ |/ /_/ /\n",
      "\\___/\\__,_/\\__,_/\\____/_/  |_/_____/\n",
      "by cadCAD\n",
      "\n",
      "Execution Mode: local_proc\n",
      "Configuration Count: 2\n",
      "Dimensions of the first simulation: (Timesteps, Params, Runs, Vars) = (12623040, 9, 1, 9)\n",
      "Execution Method: local_simulations\n",
      "SimIDs   : [0, 1]\n",
      "SubsetIDs: [0, 0]\n",
      "Ns       : [0, 0]\n",
      "ExpIDs   : [0, 1]\n",
      "Execution Mode: parallelized\n",
      "Total execution time: 1637.05s\n"
     ]
    }
   ],
   "source": [
    "exec_context = ExecutionContext()\n",
    "\n",
    "simulation = Executor(exec_context=exec_context, configs=configs)\n",
    "raw_result, tensor_field, sessions = simulation.execute()"
   ]
  },
  {
   "cell_type": "code",
   "execution_count": 12,
   "metadata": {},
   "outputs": [
    {
     "name": "stdout",
     "output_type": "stream",
     "text": [
      "--- 653.4530627727509 seconds ---\n"
     ]
    }
   ],
   "source": [
    "start_time = time.time()\n",
    "simulation_result = pd.DataFrame(raw_result)\n",
    "print(\"--- %s seconds ---\" % (time.time() - start_time))"
   ]
  },
  {
   "cell_type": "code",
   "execution_count": 13,
   "metadata": {},
   "outputs": [],
   "source": [
    "start_time = time.time()"
   ]
  },
  {
   "cell_type": "code",
   "execution_count": 14,
   "metadata": {},
   "outputs": [
    {
     "data": {
      "text/html": [
       "<div>\n",
       "<style scoped>\n",
       "    .dataframe tbody tr th:only-of-type {\n",
       "        vertical-align: middle;\n",
       "    }\n",
       "\n",
       "    .dataframe tbody tr th {\n",
       "        vertical-align: top;\n",
       "    }\n",
       "\n",
       "    .dataframe thead th {\n",
       "        text-align: right;\n",
       "    }\n",
       "</style>\n",
       "<table border=\"1\" class=\"dataframe\">\n",
       "  <thead>\n",
       "    <tr style=\"text-align: right;\">\n",
       "      <th></th>\n",
       "      <th>T</th>\n",
       "      <th>F</th>\n",
       "      <th>V</th>\n",
       "      <th>Am</th>\n",
       "      <th>Vo</th>\n",
       "      <th>d_u</th>\n",
       "      <th>I_r</th>\n",
       "      <th>d_v</th>\n",
       "      <th>MR</th>\n",
       "      <th>simulation</th>\n",
       "      <th>subset</th>\n",
       "      <th>run</th>\n",
       "      <th>substep</th>\n",
       "      <th>timestep</th>\n",
       "      <th>Supply</th>\n",
       "      <th>AmPrice</th>\n",
       "      <th>ratio</th>\n",
       "    </tr>\n",
       "  </thead>\n",
       "  <tbody>\n",
       "    <tr>\n",
       "      <th>0</th>\n",
       "      <td>200000000000000</td>\n",
       "      <td>700000000000000</td>\n",
       "      <td>100000000000000</td>\n",
       "      <td>0.000000e+00</td>\n",
       "      <td>0.000000e+00</td>\n",
       "      <td>0</td>\n",
       "      <td>0.010000</td>\n",
       "      <td>0</td>\n",
       "      <td>100.000000</td>\n",
       "      <td>0</td>\n",
       "      <td>0</td>\n",
       "      <td>1</td>\n",
       "      <td>0</td>\n",
       "      <td>0</td>\n",
       "      <td>1000000000000000</td>\n",
       "      <td>0.000000e+00</td>\n",
       "      <td>0.100000</td>\n",
       "    </tr>\n",
       "    <tr>\n",
       "      <th>1</th>\n",
       "      <td>199999840455881</td>\n",
       "      <td>699999971000000</td>\n",
       "      <td>100000190128527</td>\n",
       "      <td>3.000000e+07</td>\n",
       "      <td>3.000000e+07</td>\n",
       "      <td>0</td>\n",
       "      <td>0.010000</td>\n",
       "      <td>190128527</td>\n",
       "      <td>100.000000</td>\n",
       "      <td>0</td>\n",
       "      <td>0</td>\n",
       "      <td>1</td>\n",
       "      <td>1</td>\n",
       "      <td>1</td>\n",
       "      <td>1000000001584408</td>\n",
       "      <td>3.000000e-08</td>\n",
       "      <td>0.100000</td>\n",
       "    </tr>\n",
       "    <tr>\n",
       "      <th>2</th>\n",
       "      <td>199999680911916</td>\n",
       "      <td>699999942000000</td>\n",
       "      <td>100000380256903</td>\n",
       "      <td>5.999998e+07</td>\n",
       "      <td>5.999998e+07</td>\n",
       "      <td>0</td>\n",
       "      <td>0.010000</td>\n",
       "      <td>190128376</td>\n",
       "      <td>99.999998</td>\n",
       "      <td>0</td>\n",
       "      <td>0</td>\n",
       "      <td>1</td>\n",
       "      <td>1</td>\n",
       "      <td>2</td>\n",
       "      <td>1000000003168819</td>\n",
       "      <td>5.999998e-08</td>\n",
       "      <td>0.100000</td>\n",
       "    </tr>\n",
       "    <tr>\n",
       "      <th>3</th>\n",
       "      <td>199999521368106</td>\n",
       "      <td>699999913000000</td>\n",
       "      <td>100000570385127</td>\n",
       "      <td>8.999993e+07</td>\n",
       "      <td>8.999993e+07</td>\n",
       "      <td>0</td>\n",
       "      <td>0.010000</td>\n",
       "      <td>190128224</td>\n",
       "      <td>99.999996</td>\n",
       "      <td>0</td>\n",
       "      <td>0</td>\n",
       "      <td>1</td>\n",
       "      <td>1</td>\n",
       "      <td>3</td>\n",
       "      <td>1000000004753233</td>\n",
       "      <td>8.999993e-08</td>\n",
       "      <td>0.100001</td>\n",
       "    </tr>\n",
       "    <tr>\n",
       "      <th>4</th>\n",
       "      <td>199999361824450</td>\n",
       "      <td>699999884000000</td>\n",
       "      <td>100000760513199</td>\n",
       "      <td>1.199999e+08</td>\n",
       "      <td>1.199999e+08</td>\n",
       "      <td>0</td>\n",
       "      <td>0.010000</td>\n",
       "      <td>190128072</td>\n",
       "      <td>99.999994</td>\n",
       "      <td>0</td>\n",
       "      <td>0</td>\n",
       "      <td>1</td>\n",
       "      <td>1</td>\n",
       "      <td>4</td>\n",
       "      <td>1000000006337649</td>\n",
       "      <td>1.199999e-07</td>\n",
       "      <td>0.100001</td>\n",
       "    </tr>\n",
       "    <tr>\n",
       "      <th>...</th>\n",
       "      <td>...</td>\n",
       "      <td>...</td>\n",
       "      <td>...</td>\n",
       "      <td>...</td>\n",
       "      <td>...</td>\n",
       "      <td>...</td>\n",
       "      <td>...</td>\n",
       "      <td>...</td>\n",
       "      <td>...</td>\n",
       "      <td>...</td>\n",
       "      <td>...</td>\n",
       "      <td>...</td>\n",
       "      <td>...</td>\n",
       "      <td>...</td>\n",
       "      <td>...</td>\n",
       "      <td>...</td>\n",
       "      <td>...</td>\n",
       "    </tr>\n",
       "    <tr>\n",
       "      <th>25246077</th>\n",
       "      <td>80254728393371</td>\n",
       "      <td>333931956000000</td>\n",
       "      <td>773168257710093</td>\n",
       "      <td>1.167062e+14</td>\n",
       "      <td>1.167062e+14</td>\n",
       "      <td>24500223</td>\n",
       "      <td>0.139177</td>\n",
       "      <td>76293564</td>\n",
       "      <td>71.714295</td>\n",
       "      <td>1</td>\n",
       "      <td>0</td>\n",
       "      <td>1</td>\n",
       "      <td>1</td>\n",
       "      <td>12623036</td>\n",
       "      <td>1187354942103464</td>\n",
       "      <td>9.829088e-02</td>\n",
       "      <td>0.651169</td>\n",
       "    </tr>\n",
       "    <tr>\n",
       "      <th>25246078</th>\n",
       "      <td>80254731782632</td>\n",
       "      <td>333931927000000</td>\n",
       "      <td>773168309503436</td>\n",
       "      <td>1.167062e+14</td>\n",
       "      <td>1.167062e+14</td>\n",
       "      <td>24500224</td>\n",
       "      <td>0.139177</td>\n",
       "      <td>76293567</td>\n",
       "      <td>71.714292</td>\n",
       "      <td>1</td>\n",
       "      <td>0</td>\n",
       "      <td>1</td>\n",
       "      <td>1</td>\n",
       "      <td>12623037</td>\n",
       "      <td>1187354968286068</td>\n",
       "      <td>9.829088e-02</td>\n",
       "      <td>0.651169</td>\n",
       "    </tr>\n",
       "    <tr>\n",
       "      <th>25246079</th>\n",
       "      <td>80254735171893</td>\n",
       "      <td>333931898000000</td>\n",
       "      <td>773168361296780</td>\n",
       "      <td>1.167062e+14</td>\n",
       "      <td>1.167062e+14</td>\n",
       "      <td>24500226</td>\n",
       "      <td>0.139177</td>\n",
       "      <td>76293570</td>\n",
       "      <td>71.714290</td>\n",
       "      <td>1</td>\n",
       "      <td>0</td>\n",
       "      <td>1</td>\n",
       "      <td>1</td>\n",
       "      <td>12623038</td>\n",
       "      <td>1187354994468673</td>\n",
       "      <td>9.829089e-02</td>\n",
       "      <td>0.651169</td>\n",
       "    </tr>\n",
       "    <tr>\n",
       "      <th>25246080</th>\n",
       "      <td>80254738561154</td>\n",
       "      <td>333931869000000</td>\n",
       "      <td>773168413090126</td>\n",
       "      <td>1.167062e+14</td>\n",
       "      <td>1.167062e+14</td>\n",
       "      <td>24500227</td>\n",
       "      <td>0.139177</td>\n",
       "      <td>76293573</td>\n",
       "      <td>71.714288</td>\n",
       "      <td>1</td>\n",
       "      <td>0</td>\n",
       "      <td>1</td>\n",
       "      <td>1</td>\n",
       "      <td>12623039</td>\n",
       "      <td>1187355020651280</td>\n",
       "      <td>9.829090e-02</td>\n",
       "      <td>0.651169</td>\n",
       "    </tr>\n",
       "    <tr>\n",
       "      <th>25246081</th>\n",
       "      <td>80254741950414</td>\n",
       "      <td>333931840000000</td>\n",
       "      <td>773168464883474</td>\n",
       "      <td>1.167062e+14</td>\n",
       "      <td>1.167062e+14</td>\n",
       "      <td>24500229</td>\n",
       "      <td>0.139177</td>\n",
       "      <td>76293577</td>\n",
       "      <td>71.714286</td>\n",
       "      <td>1</td>\n",
       "      <td>0</td>\n",
       "      <td>1</td>\n",
       "      <td>1</td>\n",
       "      <td>12623040</td>\n",
       "      <td>1187355046833888</td>\n",
       "      <td>9.829090e-02</td>\n",
       "      <td>0.651169</td>\n",
       "    </tr>\n",
       "  </tbody>\n",
       "</table>\n",
       "<p>25246082 rows × 17 columns</p>\n",
       "</div>"
      ],
      "text/plain": [
       "                        T                F                V            Am  \\\n",
       "0         200000000000000  700000000000000  100000000000000  0.000000e+00   \n",
       "1         199999840455881  699999971000000  100000190128527  3.000000e+07   \n",
       "2         199999680911916  699999942000000  100000380256903  5.999998e+07   \n",
       "3         199999521368106  699999913000000  100000570385127  8.999993e+07   \n",
       "4         199999361824450  699999884000000  100000760513199  1.199999e+08   \n",
       "...                   ...              ...              ...           ...   \n",
       "25246077   80254728393371  333931956000000  773168257710093  1.167062e+14   \n",
       "25246078   80254731782632  333931927000000  773168309503436  1.167062e+14   \n",
       "25246079   80254735171893  333931898000000  773168361296780  1.167062e+14   \n",
       "25246080   80254738561154  333931869000000  773168413090126  1.167062e+14   \n",
       "25246081   80254741950414  333931840000000  773168464883474  1.167062e+14   \n",
       "\n",
       "                    Vo       d_u       I_r        d_v          MR  simulation  \\\n",
       "0         0.000000e+00         0  0.010000          0  100.000000           0   \n",
       "1         3.000000e+07         0  0.010000  190128527  100.000000           0   \n",
       "2         5.999998e+07         0  0.010000  190128376   99.999998           0   \n",
       "3         8.999993e+07         0  0.010000  190128224   99.999996           0   \n",
       "4         1.199999e+08         0  0.010000  190128072   99.999994           0   \n",
       "...                ...       ...       ...        ...         ...         ...   \n",
       "25246077  1.167062e+14  24500223  0.139177   76293564   71.714295           1   \n",
       "25246078  1.167062e+14  24500224  0.139177   76293567   71.714292           1   \n",
       "25246079  1.167062e+14  24500226  0.139177   76293570   71.714290           1   \n",
       "25246080  1.167062e+14  24500227  0.139177   76293573   71.714288           1   \n",
       "25246081  1.167062e+14  24500229  0.139177   76293577   71.714286           1   \n",
       "\n",
       "          subset  run  substep  timestep            Supply       AmPrice  \\\n",
       "0              0    1        0         0  1000000000000000  0.000000e+00   \n",
       "1              0    1        1         1  1000000001584408  3.000000e-08   \n",
       "2              0    1        1         2  1000000003168819  5.999998e-08   \n",
       "3              0    1        1         3  1000000004753233  8.999993e-08   \n",
       "4              0    1        1         4  1000000006337649  1.199999e-07   \n",
       "...          ...  ...      ...       ...               ...           ...   \n",
       "25246077       0    1        1  12623036  1187354942103464  9.829088e-02   \n",
       "25246078       0    1        1  12623037  1187354968286068  9.829088e-02   \n",
       "25246079       0    1        1  12623038  1187354994468673  9.829089e-02   \n",
       "25246080       0    1        1  12623039  1187355020651280  9.829090e-02   \n",
       "25246081       0    1        1  12623040  1187355046833888  9.829090e-02   \n",
       "\n",
       "             ratio  \n",
       "0         0.100000  \n",
       "1         0.100000  \n",
       "2         0.100000  \n",
       "3         0.100001  \n",
       "4         0.100001  \n",
       "...            ...  \n",
       "25246077  0.651169  \n",
       "25246078  0.651169  \n",
       "25246079  0.651169  \n",
       "25246080  0.651169  \n",
       "25246081  0.651169  \n",
       "\n",
       "[25246082 rows x 17 columns]"
      ]
     },
     "execution_count": 14,
     "metadata": {},
     "output_type": "execute_result"
    }
   ],
   "source": [
    "df = simulation_result.copy()\n",
    "df['Supply'] = df['T'] + df['F'] + df['V']\n",
    "df['AmPrice'] = df['Am'] / df['Supply']\n",
    "df['ratio'] = df['V']/df['Supply']\n",
    "df"
   ]
  },
  {
   "cell_type": "code",
   "execution_count": 15,
   "metadata": {},
   "outputs": [],
   "source": [
    "df_a = df[df.simulation==0]\n",
    "df_b = df[df.simulation==1]\n",
    "start_time = time.time()"
   ]
  },
  {
   "cell_type": "markdown",
   "metadata": {},
   "source": [
    "## Inflation"
   ]
  },
  {
   "cell_type": "code",
   "execution_count": 16,
   "metadata": {},
   "outputs": [
    {
     "data": {
      "text/plain": [
       "<AxesSubplot:xlabel='timestep'>"
      ]
     },
     "execution_count": 16,
     "metadata": {},
     "output_type": "execute_result"
    },
    {
     "data": {
      "image/png": "[encoded data removed]",
      "text/plain": [
       "<Figure size 432x288 with 1 Axes>"
      ]
     },
     "metadata": {
      "needs_background": "light"
     },
     "output_type": "display_data"
    }
   ],
   "source": [
    "df[df.simulation == 0].plot(kind='line', x='timestep', y=['I_r'])"
   ]
  },
  {
   "cell_type": "markdown",
   "metadata": {},
   "source": [
    "## Supply, liquid, frozen and vested tokens"
   ]
  },
  {
   "cell_type": "code",
   "execution_count": 17,
   "metadata": {},
   "outputs": [
    {
     "data": {
      "text/plain": [
       "<AxesSubplot:xlabel='timestep'>"
      ]
     },
     "execution_count": 17,
     "metadata": {},
     "output_type": "execute_result"
    },
    {
     "data": {
      "image/png": "[encoded data removed]",
      "text/plain": [
       "<Figure size 432x288 with 1 Axes>"
      ]
     },
     "metadata": {
      "needs_background": "light"
     },
     "output_type": "display_data"
    }
   ],
   "source": [
    "df[df.simulation==0].plot(kind='line', x='timestep', y=['T','V', 'F', 'Supply'])"
   ]
  },
  {
   "cell_type": "markdown",
   "metadata": {},
   "source": [
    "## Increment of vested and unvested tokens"
   ]
  },
  {
   "cell_type": "code",
   "execution_count": 18,
   "metadata": {},
   "outputs": [
    {
     "data": {
      "text/plain": [
       "<AxesSubplot:xlabel='timestep'>"
      ]
     },
     "execution_count": 18,
     "metadata": {},
     "output_type": "execute_result"
    },
    {
     "data": {
      "image/png": "[encoded data removed]",
      "text/plain": [
       "<Figure size 432x288 with 1 Axes>"
      ]
     },
     "metadata": {
      "needs_background": "light"
     },
     "output_type": "display_data"
    }
   ],
   "source": [
    "df[df.simulation == 0].plot(kind='line', x='timestep', y=['d_v', 'd_u'])"
   ]
  },
  {
   "cell_type": "markdown",
   "metadata": {},
   "source": [
    "## Vested ratio"
   ]
  },
  {
   "cell_type": "code",
   "execution_count": 19,
   "metadata": {},
   "outputs": [
    {
     "data": {
      "text/plain": [
       "<AxesSubplot:xlabel='timestep'>"
      ]
     },
     "execution_count": 19,
     "metadata": {},
     "output_type": "execute_result"
    },
    {
     "data": {
      "image/png": "[encoded data removed]",
      "text/plain": [
       "<Figure size 432x288 with 1 Axes>"
      ]
     },
     "metadata": {
      "needs_background": "light"
     },
     "output_type": "display_data"
    }
   ],
   "source": [
    "df[df.simulation == 0].plot(kind='line', x='timestep', y=['ratio'])"
   ]
  },
  {
   "cell_type": "markdown",
   "metadata": {},
   "source": [
    "## Amper(volt) tokens supply"
   ]
  },
  {
   "cell_type": "code",
   "execution_count": 20,
   "metadata": {},
   "outputs": [
    {
     "data": {
      "text/plain": [
       "<AxesSubplot:xlabel='timestep'>"
      ]
     },
     "execution_count": 20,
     "metadata": {},
     "output_type": "execute_result"
    },
    {
     "data": {
      "image/png": "[encoded data removed]",
      "text/plain": [
       "<Figure size 432x288 with 1 Axes>"
      ]
     },
     "metadata": {
      "needs_background": "light"
     },
     "output_type": "display_data"
    }
   ],
   "source": [
    "df_a.plot(kind='line', x='timestep', y=['Am'])"
   ]
  },
  {
   "cell_type": "code",
   "execution_count": 21,
   "metadata": {},
   "outputs": [
    {
     "data": {
      "text/plain": [
       "<AxesSubplot:xlabel='timestep'>"
      ]
     },
     "execution_count": 21,
     "metadata": {},
     "output_type": "execute_result"
    },
    {
     "data": {
      "image/png": "[encoded data removed]",
      "text/plain": [
       "<Figure size 432x288 with 1 Axes>"
      ]
     },
     "metadata": {
      "needs_background": "light"
     },
     "output_type": "display_data"
    }
   ],
   "source": [
    "df_b.plot(kind='line', x='timestep', y=['Am'])"
   ]
  },
  {
   "cell_type": "markdown",
   "metadata": {},
   "source": [
    "## Mint Rate"
   ]
  },
  {
   "cell_type": "code",
   "execution_count": 22,
   "metadata": {},
   "outputs": [
    {
     "data": {
      "text/plain": [
       "<AxesSubplot:xlabel='timestep'>"
      ]
     },
     "execution_count": 22,
     "metadata": {},
     "output_type": "execute_result"
    },
    {
     "data": {
      "image/png": "[encoded data removed]",
      "text/plain": [
       "<Figure size 432x288 with 1 Axes>"
      ]
     },
     "metadata": {
      "needs_background": "light"
     },
     "output_type": "display_data"
    }
   ],
   "source": [
    "df_a.plot(kind='line', x='timestep', y=['MR'])"
   ]
  },
  {
   "cell_type": "code",
   "execution_count": 23,
   "metadata": {},
   "outputs": [
    {
     "data": {
      "text/plain": [
       "<AxesSubplot:xlabel='timestep'>"
      ]
     },
     "execution_count": 23,
     "metadata": {},
     "output_type": "execute_result"
    },
    {
     "data": {
      "image/png": "[encoded data removed]",
      "text/plain": [
       "<Figure size 432x288 with 1 Axes>"
      ]
     },
     "metadata": {
      "needs_background": "light"
     },
     "output_type": "display_data"
    }
   ],
   "source": [
    "df_b.plot(kind='line', x='timestep', y=['MR'])"
   ]
  },
  {
   "cell_type": "markdown",
   "metadata": {},
   "source": [
    "## Ratio between amper(volt) supply and tokens supply"
   ]
  },
  {
   "cell_type": "code",
   "execution_count": 24,
   "metadata": {},
   "outputs": [
    {
     "data": {
      "text/plain": [
       "<AxesSubplot:xlabel='timestep'>"
      ]
     },
     "execution_count": 24,
     "metadata": {},
     "output_type": "execute_result"
    },
    {
     "data": {
      "image/png": "[encoded data removed]",
      "text/plain": [
       "<Figure size 432x288 with 1 Axes>"
      ]
     },
     "metadata": {
      "needs_background": "light"
     },
     "output_type": "display_data"
    }
   ],
   "source": [
    "df_a.plot(kind='line', x='timestep', y=['AmPrice'])"
   ]
  },
  {
   "cell_type": "code",
   "execution_count": 25,
   "metadata": {},
   "outputs": [
    {
     "data": {
      "text/plain": [
       "<AxesSubplot:xlabel='timestep'>"
      ]
     },
     "execution_count": 25,
     "metadata": {},
     "output_type": "execute_result"
    },
    {
     "data": {
      "image/png": "[encoded data removed]",
      "text/plain": [
       "<Figure size 432x288 with 1 Axes>"
      ]
     },
     "metadata": {
      "needs_background": "light"
     },
     "output_type": "display_data"
    }
   ],
   "source": [
    "df_b.plot(kind='line', x='timestep', y=['AmPrice'])"
   ]
  },
  {
   "cell_type": "code",
   "execution_count": 26,
   "metadata": {},
   "outputs": [
    {
     "name": "stdout",
     "output_type": "stream",
     "text": [
      "--- 382.67803859710693 seconds ---\n"
     ]
    }
   ],
   "source": [
    "print(\"--- %s seconds ---\" % (time.time() - start_time))"
   ]
  },
  {
   "cell_type": "code",
   "execution_count": null,
   "metadata": {},
   "outputs": [],
   "source": []
  }
 ],
 "metadata": {
  "kernelspec": {
   "display_name": "Python 3",
   "language": "python",
   "name": "python3"
  },
  "language_info": {
   "codemirror_mode": {
    "name": "ipython",
    "version": 3
   },
   "file_extension": ".py",
   "mimetype": "text/x-python",
   "name": "python",
   "nbconvert_exporter": "python",
   "pygments_lexer": "ipython3",
   "version": "3.8.0"
  }
 },
 "nbformat": 4,
 "nbformat_minor": 4
}

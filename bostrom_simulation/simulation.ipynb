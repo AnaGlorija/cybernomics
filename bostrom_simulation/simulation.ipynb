{
 "cells": [
  {
   "cell_type": "markdown",
   "metadata": {},
   "source": [
    "# Bostrom supply simulation\n",
    "---"
   ]
  },
  {
   "cell_type": "code",
   "execution_count": null,
   "metadata": {},
   "outputs": [],
   "source": [
    "import time\n",
    "import itertools\n",
    "\n",
    "# Standard libraries: https://docs.python.org/3/library/\n",
    "import math\n",
    "\n",
    "# Analysis and plotting modules\n",
    "import pandas as pd\n",
    "import matplotlib.pyplot as plt\n",
    "\n",
    "# cadCAD configuration modules\n",
    "from cadCAD.configuration.utils import config_sim\n",
    "from cadCAD.configuration import Experiment\n",
    "\n",
    "# cadCAD simulation engine modules\n",
    "from cadCAD.engine import ExecutionMode, ExecutionContext\n",
    "from cadCAD.engine import Executor\n",
    "\n",
    "from collections import Counter\n",
    "from cadCAD import configs\n",
    "\n",
    "# custom functions modules\n",
    "\n",
    "from utils.partial_state_update_blocks import partial_state_update_blocks\n",
    "\n",
    "from utils.plots import linear_plot, scatter_plot, df_preparator, plot_line_2_diff_y, plot_line_2_same_y"
   ]
  },
  {
   "cell_type": "markdown",
   "metadata": {},
   "source": [
    "## Initial state"
   ]
  },
  {
   "cell_type": "code",
   "execution_count": null,
   "metadata": {},
   "outputs": [],
   "source": [
    "sim_period = 10           # amount of years for simulating\n",
    "timesteps_per_year = 365        # units per year(days`"
   ]
  },
  {
   "cell_type": "code",
   "execution_count": null,
   "metadata": {},
   "outputs": [],
   "source": [
    "initial_state = {\n",
    "    'boot_inflation': 0.10,\n",
    "    'boot_supply': 1_000_000_000_000_000,\n",
    "    'liquid_boot_amount': 200_000_000_000_000,\n",
    "    'frozen_boot_amount': 700_000_000_000_000,\n",
    "    'bonded_boot_amount': 100_000_000_000_000,\n",
    "    'claimed_boot_amount': 0,\n",
    "    'to_distribution_boot_amount':0,\n",
    "    'agents_count': 250,\n",
    "    'capitalization_per_agent': 1,\n",
    "    'capitalization': 250 * 1,\n",
    "    'delta_cyberlinks': 0,\n",
    "    'validator_revenue': 0,\n",
    "    'timestep_provision': 0,\n",
    "    'gboot_price': 250 * 1 / 1_000_000,\n",
    "    'cyberlinks': 0,\n",
    "    'minted_amper_amount': 0,\n",
    "    'minted_volt_amount': 0,\n",
    "    'investmint_max_period': math.floor(timesteps_per_year / 4),\n",
    "    'mint_rate_amper': 1,\n",
    "    'mint_rate_volt': 1,\n",
    "    'gpu_memory_usage': 0,\n",
    "    'amper_volt_ratio': 0\n",
    "}"
   ]
  },
  {
   "cell_type": "markdown",
   "metadata": {},
   "source": [
    "## Params for simulating"
   ]
  },
  {
   "cell_type": "code",
   "execution_count": null,
   "metadata": {},
   "outputs": [],
   "source": [
    "# vesting_speed = [3, 6, 12, 18, 24, 30, 36]\n",
    "# unvesting_speed = [72, 60, 48, 36, 30, 24]\n",
    "\n",
    "# parameter_sweep = list(itertools.product(vesting_speed, unvesting_speed))\n",
    "\n",
    "# vesting_speed = [x[0] for x in parameter_sweep]\n",
    "# unvesting_speed = [x[1] for x in parameter_sweep]"
   ]
  },
  {
   "cell_type": "code",
   "execution_count": null,
   "metadata": {},
   "outputs": [],
   "source": [
    "system_params = {\n",
    "    # timesteps params\n",
    "    'timesteps_per_year': [timesteps_per_year], # units per year(minutes)\n",
    "    \n",
    "    # boot inflation params\n",
    "    'boot_inflation_rate_change_annual': [0.07], # maximum inflation rate change per year\n",
    "    'boot_inflation_min': [0.05], # minimum percent of the inflation\n",
    "    'boot_inflation_max': [0.20], # maximum percent of the inflation\n",
    "    'boot_bonded_share_target': [0.70], # desireable ratio between vested tokens and tokens supply\n",
    "    \n",
    "    # boot bonding amount params\n",
    "    'boot_bonding_share': [0.70],\n",
    "    \n",
    "    # gift claim dynamics params\n",
    "    'days_for_gift_activation': [30],\n",
    "    'claimed_at_activation_share': [0.85],\n",
    "    'days_for_gift_full_claim': [150],\n",
    "    'boot_gift_amount_init': [700_000_000_000_000],\n",
    "    'liquid_boot_supply_share': [0.25], # this param isn't used\n",
    "    \n",
    "    # understanding network effects params\n",
    "    'agents_count_at_activation': [10_000],\n",
    "    'start_capitalization_per_agent': [1],\n",
    "    'capitalization_per_agent': [1],\n",
    "    \n",
    "    # predicting volts demand params\n",
    "    'extra_links': [0],\n",
    "    'guaranted_links': [0],\n",
    "    \n",
    "    # amper and volt minting params\n",
    "    'base_halving_period_amper': [365 * 3 / 2],\n",
    "    'base_halving_period_volt': [365 * 3 / 2],\n",
    "    'mint_rate_amper_init': [1], # initial mint rate for Amperes\n",
    "    'mint_rate_volt_init': [1], # initial mint rate for Voltes\n",
    "    'base_investmint_amount_amper': [1_000_000_000], # initial cost for resource token in 1 cycle\n",
    "    'base_investmint_amount_volt': [1_000_000_000], # initial cost for resource token in 1 cycle\n",
    "    'base_investmint_period_amper': [math.floor(timesteps_per_year / 2)], # 3 month\n",
    "    'base_investmint_period_volt': [math.floor(timesteps_per_year / 2)], # 3 month\n",
    "    'investmint_max_period_init': [math.floor(timesteps_per_year / 3)], # 4 months\n",
    "    'horizont_initial_period': [math.floor(timesteps_per_year)], # 6 months\n",
    "    \n",
    "    # Investments into infrastructure params\n",
    "    'validator_commission': [0.1],\n",
    "    'max_validator_count': [92],\n",
    "}"
   ]
  },
  {
   "cell_type": "code",
   "execution_count": null,
   "metadata": {},
   "outputs": [],
   "source": [
    "del configs[:]\n",
    "experiment = Experiment()\n",
    "\n",
    "sim_config = config_sim({\n",
    "    'N': 1,\n",
    "    'T': range(int(math.ceil(sim_period * timesteps_per_year))),\n",
    "    'M': system_params\n",
    "})\n",
    "\n",
    "experiment.append_configs(\n",
    "    initial_state = initial_state,\n",
    "    partial_state_update_blocks = partial_state_update_blocks,\n",
    "    sim_configs = sim_config\n",
    ")"
   ]
  },
  {
   "cell_type": "code",
   "execution_count": null,
   "metadata": {
    "scrolled": false
   },
   "outputs": [],
   "source": [
    "exec_context = ExecutionContext()\n",
    "\n",
    "simulation = Executor(exec_context=exec_context, configs=configs)\n",
    "raw_result, tensor_field, sessions = simulation.execute()"
   ]
  },
  {
   "cell_type": "code",
   "execution_count": null,
   "metadata": {},
   "outputs": [],
   "source": [
    "start_time = time.time()\n",
    "simulation_result = pd.DataFrame(raw_result)\n",
    "print(\"--- %s seconds ---\" % (time.time() - start_time))"
   ]
  },
  {
   "cell_type": "code",
   "execution_count": null,
   "metadata": {},
   "outputs": [],
   "source": [
    "start_time = time.time()"
   ]
  },
  {
   "cell_type": "code",
   "execution_count": null,
   "metadata": {},
   "outputs": [],
   "source": [
    "df = simulation_result.copy()"
   ]
  },
  {
   "cell_type": "code",
   "execution_count": null,
   "metadata": {},
   "outputs": [],
   "source": [
    "# save local model file for power bi\n",
    "# import pyarrow as pa\n",
    "# import pyarrow.parquet as pq\n",
    "# table = pa.Table.from_pandas(df)\n",
    "# pq.write_table(table, 'simulation.parquet')"
   ]
  },
  {
   "cell_type": "code",
   "execution_count": null,
   "metadata": {},
   "outputs": [],
   "source": [
    "plot_df = df_preparator(df)"
   ]
  },
  {
   "cell_type": "code",
   "execution_count": null,
   "metadata": {},
   "outputs": [],
   "source": [
    "plot_df\n"
   ]
  },
  {
   "cell_type": "markdown",
   "metadata": {},
   "source": [
    "## Boot suplly and inflation"
   ]
  },
  {
   "cell_type": "code",
   "execution_count": null,
   "metadata": {},
   "outputs": [],
   "source": [
    "columns = ['liquid_boot_amount', 'frozen_boot_amount', 'bonded_boot_amount']\n",
    "supply_df = plot_df[columns]\n",
    "boot_inflation_df = plot_df['boot_inflation']\n",
    "\n",
    "ax1 = supply_df.plot.area(linewidth=0, colormap=\"winter\", xticks=range(0, 3650, 365), grid=True)\n",
    "\n",
    "ax2 = ax1.twinx()\n",
    "ax2.spines['right'].set_position(('axes', 1.0))\n",
    "boot_inflation_df.plot.line(ax=ax2, figsize=(16,9), style={'boot_inflation': 'y'}, xticks=range(0, 3650, 365), grid=True)"
   ]
  },
  {
   "cell_type": "code",
   "execution_count": null,
   "metadata": {},
   "outputs": [],
   "source": [
    "plot_df.plot(y='agents_count', figsize=(16, 9), xticks=range(0, 3650, 365), grid=True)"
   ]
  },
  {
   "cell_type": "code",
   "execution_count": null,
   "metadata": {},
   "outputs": [],
   "source": [
    "# agents_count.plot.line(figsize=(16,9), logy=True, xticks=range(0, 3650, 365))\n",
    "plot_line_2_diff_y(plot_df, 'capitalization_per_agent', 'capitalization', value_1_log=True)"
   ]
  },
  {
   "cell_type": "code",
   "execution_count": null,
   "metadata": {},
   "outputs": [],
   "source": [
    "plot_line_2_same_y(plot_df, ['delta_cyberlinks', 'minted_volt_amount'])\n",
    "# ax1 = df.plot(y=['delta_cyberlinks', 'minted_volt_amount'], figsize=(16, 9), xticks=range(0, 3650, 365), grid=True)\n",
    "# ax2 = ax1.twinx()\n",
    "# ax2.spines['right'].set_position(('axes', 1.0))\n",
    "# plot_df.plot.line(ax=ax2, y='cyberlinks', figsize=(16, 9), xticks=range(0, 3650, 365), style={'cyberlinks': 'r'}, grid=True)\n"
   ]
  },
  {
   "cell_type": "code",
   "execution_count": null,
   "metadata": {},
   "outputs": [],
   "source": [
    "plot_df.plot.line(x='timestep', y='cyberlinks', grid=True, xticks=range(0, 3650, 365), figsize=(16, 9))"
   ]
  },
  {
   "cell_type": "code",
   "execution_count": null,
   "metadata": {},
   "outputs": [],
   "source": [
    "plot_line_2_diff_y(plot_df, 'gboot_price', 'validator_revenue')"
   ]
  },
  {
   "cell_type": "code",
   "execution_count": null,
   "metadata": {},
   "outputs": [],
   "source": [
    "ax1 = df.plot(y=['mint_rate_amper', 'mint_rate_volt'], figsize=(16, 9), xticks=range(0, 3650, 365), grid=True)\n",
    "ax2 = ax1.twinx()\n",
    "ax2.spines['right'].set_position(('axes', 1.0))\n",
    "plot_df.plot.line(ax=ax2, y='investmint_max_period', figsize=(16, 9), xticks=range(0, 3650, 365), style={'investmint_max_period': 'r'}, grid=True)"
   ]
  },
  {
   "cell_type": "code",
   "execution_count": null,
   "metadata": {},
   "outputs": [],
   "source": [
    "ax1 = df.plot(y=['minted_amper_amount', 'cyberlinks'], figsize=(16, 9), xticks=range(0, 3650, 365), grid=True)\n",
    "ax2 = ax1.twinx()\n",
    "ax2.spines['right'].set_position(('axes', 1.0))\n",
    "plot_df.plot.line(ax=ax2, y='gpu_memory_usage', figsize=(16, 9), xticks=range(0, 3650, 365), style={'gpu_memory_usage': 'r'}, grid=True)"
   ]
  },
  {
   "cell_type": "code",
   "execution_count": null,
   "metadata": {},
   "outputs": [],
   "source": [
    "linear_plot(plot_df, 'amper_volt_ratio', render='sns')"
   ]
  },
  {
   "cell_type": "code",
   "execution_count": null,
   "metadata": {},
   "outputs": [],
   "source": [
    "print(\"--- %s seconds ---\" % (time.time() - start_time))"
   ]
  }
 ],
 "metadata": {
  "kernelspec": {
   "display_name": "Python 3",
   "language": "python",
   "name": "python3"
  },
  "language_info": {
   "codemirror_mode": {
    "name": "ipython",
    "version": 3
   },
   "file_extension": ".py",
   "mimetype": "text/x-python",
   "name": "python",
   "nbconvert_exporter": "python",
   "pygments_lexer": "ipython3",
   "version": "3.8.0"
  }
 },
 "nbformat": 4,
 "nbformat_minor": 4
}

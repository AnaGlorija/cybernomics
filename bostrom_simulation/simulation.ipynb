{
 "cells": [
  {
   "cell_type": "markdown",
   "metadata": {},
   "source": [
    "# Bostrom supply simulation\n",
    "\n",
    "---"
   ]
  },
  {
   "cell_type": "markdown",
   "metadata": {},
   "source": [
    "## Rationale\n",
    "\n",
    "There are three network tokens:\n",
    "\n",
    "* T - liquid network token\n",
    "* V - vested network token\n",
    "* F - not claimed(frozen) network token\n",
    "\n",
    "and two energy tokens:\n",
    "\n",
    "* Am - Amper token\n",
    "* Vo - Volt token\n",
    "\n",
    "The initial state of all tokens should be defined below\n",
    "\n",
    "* 1 **timestep** == 1 network block\n",
    "\n",
    "## Claim function\n",
    "\n",
    "The function of claim frozen tokens is:\n",
    "\n",
    "\\begin{gather}\n",
    "\\\\\n",
    "f(x) = -2.9 \\cdot 10^7x + 7 \\cdot 10^{14} \\\\\n",
    "\\\\\n",
    "\\end{gather}\n",
    "\n",
    "![](./images/claim.png)\n",
    "\n",
    "where **x** is network block. This function means 80% of frozen tokens are going to be claimed in 3 years linearly by 29,000,000 tokens per block.\n",
    "\n",
    "## Vesting and Unvesting\n",
    "\n",
    "The vesting function is defined as the number of blocks in months for vesting all liquid tokens. This function recalculates every block.\n",
    "\n",
    "The vesting function is defined as the number of blocks in months for investing all vested tokens. This function recalculates every block.\n",
    "\n",
    "## Energy tokens\n",
    "\n",
    "Amperes and Volts mints by the following formula:\n",
    "\n",
    "\\begin{gather}\n",
    "\\\\\n",
    "f(x) = \\frac{x \\cdot * vestingTime(s)}{1000000} \\\\\n",
    "\\\\\n",
    "\\end{gather}\n",
    "\n",
    "where **x** is number of vested tokens\n",
    "\n",
    "## Inflation\n",
    "\n",
    "The inflation function depends on the ratio between vested tokens and tokens supply. It the same as in cosmos-based networks. \n",
    "\n",
    "## Supply\n",
    "\n",
    "Supply is the sum of liquid, vested and frozen tokens in each block.\n",
    "\n",
    "## Assumptions\n",
    "\n",
    "1. All agents lock tokens for the maximum available period defined in params for simulating\n",
    "2. All agents mint maximum **Am** and **Vo** tokens in 50/50 ratio"
   ]
  },
  {
   "cell_type": "markdown",
   "metadata": {},
   "source": [
    "## Initial state"
   ]
  },
  {
   "cell_type": "code",
   "execution_count": 1,
   "metadata": {},
   "outputs": [],
   "source": [
    "tokens = 200_000_000_000_000 # Unfreeze and unvested liquid network tokens\n",
    "frozen = 700_000_000_000_000 # Waiting for claim liquid network tokens\n",
    "vested = 100_000_000_000_000 # Vested tokens according to genesis ceremony\n",
    "init_inflation = 0.01        # Start inflation"
   ]
  },
  {
   "cell_type": "markdown",
   "metadata": {},
   "source": [
    "## Params for simulating"
   ]
  },
  {
   "cell_type": "code",
   "execution_count": 2,
   "metadata": {},
   "outputs": [],
   "source": [
    "inflation_rate_change = [0.13] # maximum inflation rate change per year\n",
    "inflation_min = [0.01]         # minimum percent of the inflation\n",
    "inflation_max = [0.15]         # minimum percent of the inflation\n",
    "goal_vested = [0.88]           # desireable ratio between vested tokens and tokens supply\n",
    "blocks_per_year = [6_311_520]  # desireable amount of blocks per year\n",
    "max_vesting_time = [1_577_880] # max amount of blocks for locking\n",
    "vesting_speed = [2]            # amount of months to vest all liquid tokens\n",
    "unvesting_speed = [60]         # amount of months to uninvest all vested tokens \n",
    "\n",
    "sim_period = 12 * 7           # amount of months for simulating"
   ]
  },
  {
   "cell_type": "markdown",
   "metadata": {},
   "source": [
    "## Mathematical Specification"
   ]
  },
  {
   "cell_type": "markdown",
   "metadata": {},
   "source": [
    "### Differential Equations\n",
    "\n",
    "* T - liquid network token\n",
    "* V - vested network token\n",
    "* F - not claimed(frozen) network token\n",
    "* IRC_b - inflation rate change per block\n",
    "* S - total network tokens supply\n",
    "* I - inflation per block in network tokens\n",
    "* BlockProvision - per block token provision\n",
    "* Am - Amper token\n",
    "* Vo - Volt token\n",
    "\n",
    "\\begin{gather}\n",
    "\\\\\n",
    "T_b = T_{b-1} + {\\Delta T} \\tag{1} \\\\\n",
    "V_b = V_{b-1} + {\\Delta V} \\tag{2} \\\\\n",
    "F_b = F_{b-1} + {\\Delta F} \\tag{3} \\\\\n",
    "Am_b = Am_{b-1} + {\\Delta Am} \\tag{4} \\\\\n",
    "Vo_b = Vo_{b-1} + {\\Delta Vo} \\tag{5} \\\\\n",
    "S_b = T_b + V_b + F_b \\tag{6} \\\\ \n",
    "\\\\\n",
    "\\end{gather}\n",
    "\n",
    "where the rate of change ($\\Delta$) is:\n",
    "\\begin{gather}\n",
    "\\\\\n",
    "{\\Delta F} = -29000000 \\tag{5} \\\\ \\\\\n",
    "{\\Delta V} = \\frac{T_{b-1}}{(blocksPerYear*(1/12 \\cdot vestingSpeed)} - {\\Delta U} \\tag{6} \\\\ \\\\\n",
    "{\\Delta T} = - {\\Delta F} - {\\Delta V} + I_{b-1} + {\\Delta U}  \\tag{7} \\\\ \\\\\n",
    "{\\Delta Am} = \\frac{{\\Delta V} * maxVestingTime * 5}{2 * 1000000}  \\tag{8} \\\\ \\\\\n",
    "{\\Delta Vo} = \\frac{{\\Delta V} * maxVestingTime * 5}{2 * 1000000}  \\tag{9} \\\\ \\\\\n",
    "{\\Delta U} = \\frac{V_{b-1}}{(blocksPerYear*(1/12 \\cdot unvestingSpeed)} \\tag{10} \\\\ \\\\\n",
    "\\\\\n",
    "\\end{gather}\n",
    "\n",
    "where:\n",
    "\\begin{gather}\n",
    "\\\\\n",
    "I_{b-1} = \\frac{S_{b-1} \\cdot IRC_{b-1}}{blocksPerYear} \\tag{11} \\\\ \\\\\n",
    "IRC_b = \\frac{\\left(1 - \\frac{vestedRatio_{b-1}}{goalVested}\\right) \\cdot inflationRateChange}{blocksPerYear} \\tag{12} \\\\\n",
    "\\\\\n",
    "\\end{gather}"
   ]
  },
  {
   "cell_type": "code",
   "execution_count": 3,
   "metadata": {},
   "outputs": [],
   "source": [
    "# Standard libraries: https://docs.python.org/3/library/\n",
    "import math\n",
    "\n",
    "# Analysis and plotting modules\n",
    "import pandas as pd\n",
    "import plotly"
   ]
  },
  {
   "cell_type": "code",
   "execution_count": 4,
   "metadata": {},
   "outputs": [],
   "source": [
    "# cadCAD configuration modules\n",
    "from cadCAD.configuration.utils import config_sim\n",
    "from cadCAD.configuration import Experiment\n",
    "\n",
    "# cadCAD simulation engine modules\n",
    "from cadCAD.engine import ExecutionMode, ExecutionContext\n",
    "from cadCAD.engine import Executor\n",
    "\n",
    "from collections import Counter\n",
    "from cadCAD import configs"
   ]
  },
  {
   "cell_type": "code",
   "execution_count": 5,
   "metadata": {},
   "outputs": [],
   "source": [
    "initial_state = {\n",
    "    'T':   tokens,\n",
    "    'F':   frozen,\n",
    "    'V':   vested,\n",
    "    'Am': 0,\n",
    "    'Vo': 0,\n",
    "    'd_u': 0,\n",
    "    'I_r': init_inflation,\n",
    "    'd_v': 0\n",
    "}\n",
    "\n",
    "system_params = {\n",
    "    'inflationRateChange': inflation_rate_change,\n",
    "    'inflationMin': inflation_min,\n",
    "    'inflationMax': inflation_max,\n",
    "    'goalVested': goal_vested,\n",
    "    'blocksPerYear': blocks_per_year,\n",
    "    'maxVestingTime': max_vesting_time,\n",
    "    'vestingSpeed': vesting_speed,\n",
    "    'unvestingSpeed': unvesting_speed\n",
    "}"
   ]
  },
  {
   "cell_type": "markdown",
   "metadata": {},
   "source": [
    "Adapting to use **policy functions** to drive the process, and **state update functions** to update the state according to the **differential specification**:"
   ]
  },
  {
   "cell_type": "code",
   "execution_count": 6,
   "metadata": {},
   "outputs": [],
   "source": [
    "def p_inflation(params, substep, state_history, previous_state):\n",
    "    S = previous_state['T'] + previous_state['F'] + previous_state['V']\n",
    "    V_r = previous_state['V']/S\n",
    "    IRC = (1 - (V_r/params['goalVested'])) * params['inflationRateChange']\n",
    "    IRC = IRC / params['blocksPerYear']\n",
    "    return {'IRC': IRC}\n",
    "\n",
    "def p_blockProvision(params, substep, state_history, previous_state):\n",
    "    S = previous_state['T'] + previous_state['F'] + previous_state['V']\n",
    "    V_r = previous_state['V'] / S\n",
    "    IRC = ((1 - V_r/params['goalVested']) * params['inflationRateChange']) / params['blocksPerYear']\n",
    "    I_r = previous_state['I_r'] + IRC\n",
    "    if I_r > params['inflationMax']:\n",
    "        I_r = params['inflationMax']\n",
    "    elif I_r < params['inflationMin']:\n",
    "        I_r = params['inflationMin']\n",
    "    I_p = (S * I_r) / params['blocksPerYear']\n",
    "    return {'block_provision': math.ceil(I_p)}\n",
    "\n",
    "def p_claim(params, substep, state_history, previous_state):\n",
    "    delta_f = -29_000_000\n",
    "    if previous_state['F'] <= 0:\n",
    "        delta_f = 0\n",
    "    return {'delta_F': delta_f}\n",
    "\n",
    "def p_vest(params, substep, state_history, previous_state):\n",
    "    investmint = previous_state['T']/(params['blocksPerYear'] * ((1/12) * params['vestingSpeed']))\n",
    "    return {'delta_V': math.ceil(investmint)}\n",
    "\n",
    "def p_unvest(params, substep, state_history, previous_state):\n",
    "    if previous_state['timestep'] <= params['maxVestingTime']:\n",
    "        uninvestmint = 0\n",
    "    else:\n",
    "        uninvestmint = previous_state['V']/(params['blocksPerYear'] * ((1/12) * params['unvestingSpeed']))\n",
    "    return {'delta_U': math.ceil(uninvestmint)}"
   ]
  },
  {
   "cell_type": "code",
   "execution_count": 7,
   "metadata": {},
   "outputs": [],
   "source": [
    "def s_I_r(params, substep, state_history, previous_state, policy_input):\n",
    "    I_r = previous_state['I_r'] + policy_input['IRC']\n",
    "    if I_r > params['inflationMax']:\n",
    "        I_r = params['inflationMax']\n",
    "    elif I_r < params['inflationMin']:\n",
    "        I_r = params['inflationMin']\n",
    "    return 'I_r', I_r\n",
    "\n",
    "def s_F(params, substep, state_history, previous_state, policy_input):\n",
    "    F = previous_state['F'] + policy_input['delta_F']\n",
    "    if F < 0:\n",
    "        F = 0\n",
    "    return 'F', F\n",
    "\n",
    "def s_V(params, substep, state_history, previous_state, policy_input):\n",
    "    V = previous_state['V'] + policy_input['delta_V'] - policy_input['delta_U']\n",
    "    return 'V', V\n",
    "\n",
    "def s_T(params, substep, state_history, previous_state, policy_input):\n",
    "    T = previous_state['T'] - policy_input['delta_F'] - policy_input['delta_V'] + policy_input['block_provision'] + policy_input['delta_U']\n",
    "    return 'T', T\n",
    "\n",
    "def s_d_u(params, substep, state_history, previous_state, policy_input):\n",
    "    return 'd_u', policy_input['delta_U']\n",
    "\n",
    "def s_d_v(params, substep, state_history, previous_state, policy_input):\n",
    "    return 'd_v', policy_input['delta_V']\n",
    "\n",
    "def s_am(params, substep, state_history, previous_state, policy_input):\n",
    "    am = previous_state['Am'] + (policy_input['delta_V'] * params['maxVestingTime'] * 5) / 2_000_000\n",
    "    return 'Am', am\n",
    "\n",
    "def s_vo(params, substep, state_history, previous_state, policy_input):\n",
    "    vo = previous_state['Vo'] + (policy_input['delta_V'] * params['maxVestingTime'] * 5) / 2_000_000\n",
    "    return 'Vo', vo\n",
    "    "
   ]
  },
  {
   "cell_type": "code",
   "execution_count": 8,
   "metadata": {},
   "outputs": [],
   "source": [
    "partial_state_update_blocks = [\n",
    "    {\n",
    "        'policies': {\n",
    "            'IRC': p_inflation,\n",
    "            'block_provision': p_blockProvision, \n",
    "            'delta_F': p_claim, \n",
    "            'delta_V': p_vest,\n",
    "            'delta_U': p_unvest\n",
    "        },\n",
    "        'variables': {\n",
    "            'I_r': s_I_r,\n",
    "            'F': s_F,\n",
    "            'V': s_V,\n",
    "            'T': s_T,\n",
    "            'd_u': s_d_u,\n",
    "            'd_v': s_d_v,\n",
    "            'Am': s_am,\n",
    "            'Vo': s_vo\n",
    "        }\n",
    "    }\n",
    "]"
   ]
  },
  {
   "cell_type": "code",
   "execution_count": 9,
   "metadata": {},
   "outputs": [],
   "source": [
    "del configs[:]\n",
    "experiment = Experiment()\n",
    "\n",
    "sim_config = config_sim({\n",
    "    'N': 1,\n",
    "    'T': range(int(math.ceil((6311520/12) * sim_period))),\n",
    "    'M': system_params\n",
    "})\n",
    "\n",
    "experiment.append_configs(\n",
    "    initial_state = initial_state,\n",
    "    partial_state_update_blocks = partial_state_update_blocks,\n",
    "    sim_configs = sim_config\n",
    ")"
   ]
  },
  {
   "cell_type": "code",
   "execution_count": 10,
   "metadata": {},
   "outputs": [
    {
     "name": "stdout",
     "output_type": "stream",
     "text": [
      "\n",
      "                  ___________    ____\n",
      "  ________ __ ___/ / ____/   |  / __ \\\n",
      " / ___/ __` / __  / /   / /| | / / / /\n",
      "/ /__/ /_/ / /_/ / /___/ ___ |/ /_/ /\n",
      "\\___/\\__,_/\\__,_/\\____/_/  |_/_____/\n",
      "by cadCAD\n",
      "\n",
      "Execution Mode: local_proc\n",
      "Configuration Count: 1\n",
      "Dimensions of the first simulation: (Timesteps, Params, Runs, Vars) = (44180640, 8, 1, 8)\n",
      "Execution Method: local_simulations\n",
      "SimIDs   : [0]\n",
      "SubsetIDs: [0]\n",
      "Ns       : [0]\n",
      "ExpIDs   : [0]\n",
      "Execution Mode: single_threaded\n",
      "Total execution time: 2860.87s\n"
     ]
    }
   ],
   "source": [
    "exec_context = ExecutionContext()\n",
    "\n",
    "simulation = Executor(exec_context=exec_context, configs=configs)\n",
    "raw_result, tensor_field, sessions = simulation.execute()"
   ]
  },
  {
   "cell_type": "code",
   "execution_count": null,
   "metadata": {},
   "outputs": [],
   "source": [
    "simulation_result = pd.DataFrame(raw_result)\n",
    "simulation_result"
   ]
  },
  {
   "cell_type": "code",
   "execution_count": null,
   "metadata": {},
   "outputs": [],
   "source": [
    "df = simulation_result.copy()\n",
    "df['Supply'] = df['T'] + df['F'] + df['V']\n",
    "df['AmPrice'] = df['Am'] / df['Supply']\n",
    "df['ratio'] = df['V']/df['Supply']\n",
    "df"
   ]
  },
  {
   "cell_type": "markdown",
   "metadata": {},
   "source": [
    "## Supply, liquid, frozen and vested tokens"
   ]
  },
  {
   "cell_type": "code",
   "execution_count": null,
   "metadata": {},
   "outputs": [],
   "source": [
    "df.plot(kind='line', x='timestep', y=['T', 'F', 'V', 'Supply'])"
   ]
  },
  {
   "cell_type": "markdown",
   "metadata": {},
   "source": [
    "## Amper(volt) tokens supply"
   ]
  },
  {
   "cell_type": "code",
   "execution_count": null,
   "metadata": {},
   "outputs": [],
   "source": [
    "df.plot(kind='line', x='timestep', y=['Am'])"
   ]
  },
  {
   "cell_type": "markdown",
   "metadata": {},
   "source": [
    "## Inflation"
   ]
  },
  {
   "cell_type": "code",
   "execution_count": null,
   "metadata": {},
   "outputs": [],
   "source": [
    "df.plot(kind='line', x='timestep', y=['I_r'])"
   ]
  },
  {
   "cell_type": "markdown",
   "metadata": {},
   "source": [
    "## Increment of vested and unvested tokens"
   ]
  },
  {
   "cell_type": "code",
   "execution_count": null,
   "metadata": {},
   "outputs": [],
   "source": [
    "df.plot(kind='line', x='timestep', y=['d_v', 'd_u'])"
   ]
  },
  {
   "cell_type": "markdown",
   "metadata": {},
   "source": [
    "## Vested ratio"
   ]
  },
  {
   "cell_type": "code",
   "execution_count": null,
   "metadata": {},
   "outputs": [],
   "source": [
    "df.plot(kind='line', x='timestep', y=['ratio'])"
   ]
  },
  {
   "cell_type": "markdown",
   "metadata": {},
   "source": [
    "## Ratio between amper(volt) supply and tokens supply"
   ]
  },
  {
   "cell_type": "code",
   "execution_count": null,
   "metadata": {},
   "outputs": [],
   "source": [
    "df.plot(kind='line', x='timestep', y=['AmPrice'])"
   ]
  }
 ],
 "metadata": {
  "kernelspec": {
   "display_name": "Python 3",
   "language": "python",
   "name": "python3"
  },
  "language_info": {
   "codemirror_mode": {
    "name": "ipython",
    "version": 3
   },
   "file_extension": ".py",
   "mimetype": "text/x-python",
   "name": "python",
   "nbconvert_exporter": "python",
   "pygments_lexer": "ipython3",
   "version": "3.8.0"
  }
 },
 "nbformat": 4,
 "nbformat_minor": 4
}

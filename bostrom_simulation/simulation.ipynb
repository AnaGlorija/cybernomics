{
 "cells": [
  {
   "cell_type": "markdown",
   "metadata": {},
   "source": [
    "# Bostrom supply simulation\n",
    "---"
   ]
  },
  {
   "cell_type": "markdown",
   "metadata": {},
   "source": [
    "## A/B simulations params (depricated)\n",
    "\n",
    "\n",
    "| Param name | Simulation A | Simulation B|\n",
    "|:---|---:|---:|\n",
    "|Liquid Tokens (T)|200,000,000,000,000|200,000,000,000,000|\n",
    "|Frozen Tokens (F)|700,000,000,000,000|700,000,000,000,000|\n",
    "|Vested Tokens (L)|100,000,000,000,000|100,000,000,000,000|\n",
    "|Initial inflation |5.00|5.00|\n",
    "|Amper Mint Rate init|50.00|50.00|\n",
    "|Volt Mint Rate init|100.00|100.00|\n",
    "|Inflation rate change|13.00|13.00|\n",
    "|Inflation min|1.00|1.00|\n",
    "|Inflation max|15.00|15.00|\n",
    "|Goal vested|80.00|80.00|\n",
    "|Volt halving|1,000,000.00|1,000,000.00|\n",
    "|Resource token init price|100,000,000.00|100,000,000.00|"
   ]
  },
  {
   "cell_type": "code",
   "execution_count": null,
   "metadata": {},
   "outputs": [],
   "source": [
    "import time\n",
    "import itertools\n",
    "\n",
    "# Standard libraries: https://docs.python.org/3/library/\n",
    "import math\n",
    "\n",
    "# Analysis and plotting modules\n",
    "import pandas as pd\n",
    "\n",
    "# cadCAD configuration modules\n",
    "from cadCAD.configuration.utils import config_sim\n",
    "from cadCAD.configuration import Experiment\n",
    "\n",
    "# cadCAD simulation engine modules\n",
    "from cadCAD.engine import ExecutionMode, ExecutionContext\n",
    "from cadCAD.engine import Executor\n",
    "\n",
    "from collections import Counter\n",
    "from cadCAD import configs\n",
    "\n",
    "# custom functions modules\n",
    "\n",
    "from utils.psub import partial_state_update_blocks\n",
    "\n",
    "from utils.plots import linear_plot, scatter_plot, df_preparator"
   ]
  },
  {
   "cell_type": "markdown",
   "metadata": {},
   "source": [
    "## Initial state"
   ]
  },
  {
   "cell_type": "code",
   "execution_count": null,
   "metadata": {},
   "outputs": [],
   "source": [
    "sim_period = 10          # amount of years for simulating\n",
    "timesteps_per_year = 365        # units per year(days`"
   ]
  },
  {
   "cell_type": "code",
   "execution_count": null,
   "metadata": {},
   "outputs": [],
   "source": [
    "initial_state = {\n",
    "    'liquid_boot': 200_000_000_000_000,\n",
    "    'frozen_boot': 700_000_000_000_000,\n",
    "    'vested_boot': 100_000_000_000_000,\n",
    "    'amper': 0,\n",
    "    'volt': 0,\n",
    "    'investmint_max_period': math.floor(timesteps_per_year / 2),\n",
    "    'boot_inflation_rate': 0.10,\n",
    "    'mint_rate_amper': 100,\n",
    "    'mint_rate_volt': 100,\n",
    "    'cyberlinks': 0,\n",
    "    'agents_count': 250,\n",
    "    'capitalization_per_agent': 1\n",
    "}"
   ]
  },
  {
   "cell_type": "markdown",
   "metadata": {},
   "source": [
    "## Params for simulating"
   ]
  },
  {
   "cell_type": "code",
   "execution_count": null,
   "metadata": {},
   "outputs": [],
   "source": [
    "vesting_speed = [3, 6, 12, 18, 24, 30, 36]\n",
    "unvesting_speed = [72, 60, 48, 36, 30, 24]\n",
    "\n",
    "parameter_sweep = list(itertools.product(vesting_speed, unvesting_speed))\n",
    "\n",
    "vesting_speed = [x[0] for x in parameter_sweep]\n",
    "unvesting_speed = [x[1] for x in parameter_sweep]"
   ]
  },
  {
   "cell_type": "code",
   "execution_count": null,
   "metadata": {},
   "outputs": [],
   "source": [
    "system_params = {\n",
    "    'boot_inflation_rate_change_annual': [0.07], # maximum inflation rate change per year\n",
    "    'boot_inflation_min': [0.05], # minimum percent of the inflation\n",
    "    'boot_inflation_max': [0.20], # maximum percent of the inflation\n",
    "    'boot_bonded_share_target': [0.70], # desireable ratio between vested tokens and tokens supply\n",
    "    'timesteps_per_year': [timesteps_per_year], # units per year(minutes)\n",
    "    'vesting_speed': vesting_speed, # amount of months to vest all liquid tokens\n",
    "    'unvesting_speed': unvesting_speed, # amount of months to uninvest all vested tokens\n",
    "    'base_halving_period_amper': [12_000_000 * 6],\n",
    "    'base_halving_period_volt': [12_000_000 * 6],\n",
    "    'mint_rate_amper_init': [100], # initial mint rate for Amperes\n",
    "    'mint_rate_volt_init': [100], # initial mint rate for Voltes\n",
    "    'base_investmint_amount_amper': [100_000_000], # initial cost for resource token in 1 cycle\n",
    "    'base_investmint_amount_volt': [100_000_000], # initial cost for resource token in 1 cycle\n",
    "    'base_investmint_preiod_amper': [math.floor(timesteps_per_year / 12)],\n",
    "    'base_investmint_preiod_volt': [math.floor(timesteps_per_year / 12)],\n",
    "    'investmint_max_period_init': [math.floor(timesteps_per_year / 2)],\n",
    "    'boot_bonded_share_target': [0.7],\n",
    "    'extra_links': [100],\n",
    "    'guaranted_links': [100],\n",
    "    'agents_count_at_activation': [1000],\n",
    "    'start_capitalization_per_agent': [1]\n",
    "}"
   ]
  },
  {
   "cell_type": "code",
   "execution_count": null,
   "metadata": {},
   "outputs": [],
   "source": [
    "del configs[:]\n",
    "experiment = Experiment()\n",
    "\n",
    "sim_config = config_sim({\n",
    "    'N': 1,\n",
    "    'T': range(int(math.ceil(sim_period * timesteps_per_year))),\n",
    "    'M': system_params\n",
    "})\n",
    "\n",
    "experiment.append_configs(\n",
    "    initial_state = initial_state,\n",
    "    partial_state_update_blocks = partial_state_update_blocks,\n",
    "    sim_configs = sim_config\n",
    ")"
   ]
  },
  {
   "cell_type": "code",
   "execution_count": null,
   "metadata": {
    "scrolled": false
   },
   "outputs": [],
   "source": [
    "exec_context = ExecutionContext()\n",
    "\n",
    "simulation = Executor(exec_context=exec_context, configs=configs)\n",
    "raw_result, tensor_field, sessions = simulation.execute()"
   ]
  },
  {
   "cell_type": "code",
   "execution_count": null,
   "metadata": {},
   "outputs": [],
   "source": [
    "start_time = time.time()\n",
    "simulation_result = pd.DataFrame(raw_result)\n",
    "print(\"--- %s seconds ---\" % (time.time() - start_time))"
   ]
  },
  {
   "cell_type": "code",
   "execution_count": null,
   "metadata": {},
   "outputs": [],
   "source": [
    "start_time = time.time()"
   ]
  },
  {
   "cell_type": "code",
   "execution_count": null,
   "metadata": {},
   "outputs": [],
   "source": [
    "df = simulation_result.copy()\n",
    "df['boot_supply'] = df['liquid_boot'] + df['frozen_boot'] + df['vested_boot']\n",
    "df['cap_in_eth'] = df['capitalization_per_agent'] * df['agents_count']\n",
    "df"
   ]
  },
  {
   "cell_type": "code",
   "execution_count": null,
   "metadata": {},
   "outputs": [],
   "source": [
    "# save local model file for power bi\n",
    "# import pyarrow as pa\n",
    "# import pyarrow.parquet as pq\n",
    "# table = pa.Table.from_pandas(df)\n",
    "# pq.write_table(table, 'simulation.parquet')"
   ]
  },
  {
   "cell_type": "code",
   "execution_count": null,
   "metadata": {},
   "outputs": [],
   "source": [
    "plot_df = df_preparator(df)"
   ]
  },
  {
   "cell_type": "markdown",
   "metadata": {},
   "source": [
    "## Inflation"
   ]
  },
  {
   "cell_type": "code",
   "execution_count": null,
   "metadata": {
    "scrolled": false
   },
   "outputs": [],
   "source": [
    "scatter_plot(plot_df, \"boot_inflation_rate\", render='sns')"
   ]
  },
  {
   "cell_type": "markdown",
   "metadata": {},
   "source": [
    "## Supply"
   ]
  },
  {
   "cell_type": "code",
   "execution_count": null,
   "metadata": {},
   "outputs": [],
   "source": [
    "scatter_plot(plot_df, 'boot_supply', render='sns')"
   ]
  },
  {
   "cell_type": "markdown",
   "metadata": {},
   "source": [
    "## Vested"
   ]
  },
  {
   "cell_type": "code",
   "execution_count": null,
   "metadata": {},
   "outputs": [],
   "source": [
    "scatter_plot(plot_df, 'capitalization_per_agent', render='sns')"
   ]
  },
  {
   "cell_type": "markdown",
   "metadata": {},
   "source": [
    "## Ampler tokens supply"
   ]
  },
  {
   "cell_type": "code",
   "execution_count": null,
   "metadata": {},
   "outputs": [],
   "source": [
    "scatter_plot(plot_df, 'amper', render='sns')"
   ]
  },
  {
   "cell_type": "markdown",
   "metadata": {},
   "source": [
    "## Volt tokens supply"
   ]
  },
  {
   "cell_type": "code",
   "execution_count": null,
   "metadata": {},
   "outputs": [],
   "source": [
    "scatter_plot(plot_df, 'volt', render='sns')"
   ]
  },
  {
   "cell_type": "markdown",
   "metadata": {},
   "source": [
    "## Mint Rate Volter-Amper"
   ]
  },
  {
   "cell_type": "code",
   "execution_count": null,
   "metadata": {},
   "outputs": [],
   "source": [
    "linear_plot(plot_df, 'mint_rate_volt', render='sns')"
   ]
  },
  {
   "cell_type": "markdown",
   "metadata": {},
   "source": [
    "## Max vesting time"
   ]
  },
  {
   "cell_type": "code",
   "execution_count": null,
   "metadata": {},
   "outputs": [],
   "source": [
    "linear_plot(plot_df, 'maxVestingTime', render='sns')"
   ]
  },
  {
   "cell_type": "markdown",
   "metadata": {},
   "source": [
    "## Ratio between amper supply and volt supply"
   ]
  },
  {
   "cell_type": "code",
   "execution_count": null,
   "metadata": {
    "scrolled": false
   },
   "outputs": [],
   "source": [
    "scatter_plot(plot_df, 'AmPrice', render='sns')"
   ]
  },
  {
   "cell_type": "markdown",
   "metadata": {},
   "source": [
    "## Cyberlinks"
   ]
  },
  {
   "cell_type": "code",
   "execution_count": null,
   "metadata": {
    "scrolled": false
   },
   "outputs": [],
   "source": [
    "scatter_plot(plot_df, 'CL', render='sns')"
   ]
  },
  {
   "cell_type": "markdown",
   "metadata": {},
   "source": [
    "## Agents amount"
   ]
  },
  {
   "cell_type": "code",
   "execution_count": null,
   "metadata": {
    "scrolled": false
   },
   "outputs": [],
   "source": [
    "scatter_plot(plot_df, 'agents_count', render='sns')"
   ]
  },
  {
   "cell_type": "markdown",
   "metadata": {},
   "source": [
    "## Cap in ETH"
   ]
  },
  {
   "cell_type": "code",
   "execution_count": null,
   "metadata": {},
   "outputs": [],
   "source": [
    "scatter_plot(plot_df, 'cap_in_eth', render='sns')"
   ]
  },
  {
   "cell_type": "code",
   "execution_count": null,
   "metadata": {},
   "outputs": [],
   "source": [
    "print(\"--- %s seconds ---\" % (time.time() - start_time))"
   ]
  }
 ],
 "metadata": {
  "kernelspec": {
   "display_name": "Python 3",
   "language": "python",
   "name": "python3"
  },
  "language_info": {
   "codemirror_mode": {
    "name": "ipython",
    "version": 3
   },
   "file_extension": ".py",
   "mimetype": "text/x-python",
   "name": "python",
   "nbconvert_exporter": "python",
   "pygments_lexer": "ipython3",
   "version": "3.8.0"
  }
 },
 "nbformat": 4,
 "nbformat_minor": 4
}

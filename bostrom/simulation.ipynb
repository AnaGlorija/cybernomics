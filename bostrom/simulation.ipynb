{
 "cells": [
  {
   "cell_type": "markdown",
   "metadata": {},
   "source": [
    "# Bostrom Simulation\n",
    "---"
   ]
  },
  {
   "cell_type": "code",
   "execution_count": 1,
   "metadata": {},
   "outputs": [],
   "source": [
    "import math\n",
    "import pandas as pd\n",
    "from cadCAD.configuration.utils import config_sim\n",
    "from cadCAD.configuration import Experiment\n",
    "from cadCAD.engine import ExecutionContext\n",
    "from cadCAD.engine import Executor\n",
    "from cadCAD import configs\n",
    "\n",
    "from model.partial_state_update_blocks import partial_state_update_blocks\n",
    "from utils.plots import prepare_df, boot_supply_plot, hydrogen_supply_plot, agents_count_plot, capitalization_plot, \\\n",
    "    gboot_price_plot, cyberlinks_per_day_plot, cyberlinks_count_plot, \\\n",
    "    ampere_supply_plot, ampere_mint_rate_plot, volt_supply_plot, volt_mint_rate_plot, \\\n",
    "    gpu_memory_usage_plot"
   ]
  },
  {
   "cell_type": "markdown",
   "metadata": {},
   "source": [
    "## Initial state"
   ]
  },
  {
   "cell_type": "code",
   "execution_count": 2,
   "metadata": {},
   "outputs": [],
   "source": [
    "sim_period = 10  # amount of years for simulating\n",
    "timesteps_per_year = 365  # units per year (days)\n",
    "agents_count_init = 750  # agents count in the genesis\n",
    "capitalization_per_agent_init = 32  # initial capitalization per agent in ETH\n",
    "\n",
    "initial_state = {\n",
    "    'boot_inflation_rate': 0.05,  # initial inflation rate\n",
    "    'boot_supply': 1_000_000_000_000_000,  # initial BOOT supply\n",
    "    'boot_liquid_supply': 290_000_000_000_000,  # initial BOOT liquid supply\n",
    "    'boot_frozen_supply': 700_000_000_000_000,  # initial BOOT frozen(on a gift contract) supply\n",
    "    'boot_bonded_supply': 10_000_000_000_000,  # initial BOOT bonded supply\n",
    "    'boot_claimed_supply': 0,  # initial BOOT claimed supply (from a gift contract)\n",
    "    'boot_to_distribution_supply': 0,  # initial boot to distribution supply (transferred to gift claimer)\n",
    "    'hydrogen_supply': 10_000_000_000_000,  # initial hydrogen supply (=initial boot bonded supply)\n",
    "    'hydrogen_liquid_supply': 0, # initial hydrogen liquid supply\n",
    "    'agents_count': agents_count_init,  # initial count of active agents\n",
    "    'capitalization_per_agent': capitalization_per_agent_init,  # initial capitalization per agent in eth\n",
    "    'capitalization_in_eth': agents_count_init * capitalization_per_agent_init,  # initial cap in eth\n",
    "    'cyberlinks_per_day': 0,  # initial amount of cyberlinks per day\n",
    "    'validator_revenue_gboot': 0,  # initial validator revenue in GBOOT\n",
    "    'timestep_provision_boot': 0,  # initial timestep provision in GBOOT\n",
    "    'gboot_price': agents_count_init * capitalization_per_agent_init / 1_000_000,  # 10^6 = Total supply 10^15 / Gboot 10^9\n",
    "    'cyberlinks_count': 0,  # initial amount of cyberlinks\n",
    "    'ampere_supply': 0,  # initial amount of AMPERE resource token\n",
    "    'volt_supply': 0,  # initial amount of volt resource token\n",
    "    'investmint_max_period': 365 * 3 // 2,  # initial max period of investminting in days\n",
    "    'ampere_mint_rate': 1,  # initial rate if AMPERE minting rate\n",
    "    'volt_mint_rate': 1,  # initial rate if VOLT minting rate\n",
    "    'gpu_memory_usage': 0,  # initial gpu memory usage bytes\n",
    "    'cpu_memory_usage': 0, # initial cpu ram usage gbytes\n",
    "    'cpu_time_usage': 0, # initial cpu time usage seconds\n",
    "    'gpu_time_usage': 0, # initial gpu time usage seconds\n",
    "    'ampere_volt_ratio': 1,  # initial ration between ampere and volt\n",
    "    'volt_liquid_supply': 0,  # initial VOLT liquid supply\n",
    "    'ampere_liquid_supply': 0,  # initial AMPERE liquid supply\n",
    "    'volt_minted_amount': 0,  # initial AMPERE minted amount\n",
    "    'ampere_minted_amount': 0  # initial AMPERE minted amount\n",
    "}"
   ]
  },
  {
   "cell_type": "markdown",
   "metadata": {},
   "source": [
    "## Params for simulating"
   ]
  },
  {
   "cell_type": "code",
   "execution_count": 3,
   "metadata": {},
   "outputs": [],
   "source": [
    "system_params = {\n",
    "    # timesteps params\n",
    "    'timesteps_per_year': [timesteps_per_year],  # units per year(days)\n",
    "    \n",
    "    # BOOT inflation params\n",
    "    'boot_inflation_rate_change_annual': [0.20],  # maximum inflation rate change per year\n",
    "    'boot_inflation_rate_min': [0.03],  # minimum percent of the inflation\n",
    "    'boot_inflation_rate_max': [0.15],  # maximum percent of the inflation\n",
    "    'boot_bonded_share_target': [0.80],  # desirable ratio between vested tokens and tokens supply\n",
    "    'bonding_speed_coeff': [0.01], # the speed coefficient for tokens bonding\n",
    "    \n",
    "    # gift claim dynamics params\n",
    "    'days_for_gift_activation': [30],\n",
    "    'claimed_at_activation_share': [0.85], \n",
    "    'days_for_gift_full_claim': [150],\n",
    "    'boot_gift_amount_init': [700_000_000_000_000],  # boots amount on a gift contract\n",
    "    \n",
    "    # understanding network effects params\n",
    "    'agents_count_at_activation': [100_000],  # amount of agents to gift release\n",
    "    'start_capitalization_per_agent': [1],  # initial capitalization per agent eth\n",
    "    \n",
    "    # predicting VOLT demand params\n",
    "    'cyberlinks_transactions_coeff': [15],  # speed coefficient of cyberlinks txs growing\n",
    "    'extra_links': [0],  # extra links txs amount\n",
    "    'guaranteed_links': [0],  # guaranteed links txs amount\n",
    "    \n",
    "    # AMPERE and VOLT minting params\n",
    "    'ampere_base_halving_period': [365 * 3 // 2],  # period of mint rate halving for AMPERE mint rate\n",
    "    'volt_base_halving_period': [365 * 3 // 2],  # period of mint rate halving for VOLT mint rate\n",
    "    'ampere_mint_rate_init': [1],  # initial mint rate for AMPERE\n",
    "    'volt_mint_rate_init': [1],  # initial mint rate for VOLT\n",
    "    'ampere_base_investmint_amount': [100_000_000],  # initial cost for resource token in 1 cycle\n",
    "    'volt_base_investmint_amount': [1_000_000_000],  # initial cost for resource token in 1 cycle\n",
    "    'ampere_base_investmint_period': [30],  # base investmint period for AMPERE days\n",
    "    'volt_base_investmint_period': [30],  # base investmint period for VOLT days\n",
    "    'investmint_max_period_init': [365 * 3 // 2],  # initial value for investmint maximum period\n",
    "    'horizont_period_init': [365 * 3 // 2],  # period for max investmint period doubling days\n",
    "    \n",
    "    # investments into infrastructure params\n",
    "    'validator_commission': [0.1],  #average validator comission\n",
    "    'max_validator_count': [92], # max amount of validators\n",
    "    \n",
    "    # particles util\n",
    "    'particle_per_cyberlink': [0.1]  # amount of particle per cyberlink\n",
    "}"
   ]
  },
  {
   "cell_type": "markdown",
   "metadata": {},
   "source": [
    "## Context Preparation"
   ]
  },
  {
   "cell_type": "code",
   "execution_count": 4,
   "metadata": {},
   "outputs": [],
   "source": [
    "del configs[:]\n",
    "experiment = Experiment()\n",
    "\n",
    "sim_config = config_sim({\n",
    "    'N': 1,\n",
    "    'T': range(int(math.ceil(sim_period * timesteps_per_year))),\n",
    "    'M': system_params\n",
    "})\n",
    "\n",
    "experiment.append_configs(\n",
    "    initial_state = initial_state,\n",
    "    partial_state_update_blocks = partial_state_update_blocks,\n",
    "    sim_configs = sim_config\n",
    ")"
   ]
  },
  {
   "cell_type": "markdown",
   "metadata": {},
   "source": [
    "## Simulation"
   ]
  },
  {
   "cell_type": "code",
   "execution_count": 5,
   "metadata": {
    "scrolled": false
   },
   "outputs": [
    {
     "name": "stdout",
     "output_type": "stream",
     "text": [
      "\n",
      "                  ___________    ____\n",
      "  ________ __ ___/ / ____/   |  / __ \\\n",
      " / ___/ __` / __  / /   / /| | / / / /\n",
      "/ /__/ /_/ / /_/ / /___/ ___ |/ /_/ /\n",
      "\\___/\\__,_/\\__,_/\\____/_/  |_/_____/\n",
      "by cadCAD\n",
      "\n",
      "Execution Mode: local_proc\n",
      "Configuration Count: 1\n",
      "Dimensions of the first simulation: (Timesteps, Params, Runs, Vars) = (3650, 28, 1, 31)\n",
      "Execution Method: local_simulations\n",
      "SimIDs   : [0]\n",
      "SubsetIDs: [0]\n",
      "Ns       : [0]\n",
      "ExpIDs   : [0]\n",
      "Execution Mode: single_threaded\n",
      "Total execution time: 0.58s\n"
     ]
    }
   ],
   "source": [
    "exec_context = ExecutionContext()\n",
    "\n",
    "simulation = Executor(exec_context=exec_context, configs=configs)\n",
    "raw_result, tensor_field, sessions = simulation.execute()\n",
    "simulation_result_df = pd.DataFrame(raw_result)\n",
    "simulation_result_df = prepare_df(simulation_result_df)"
   ]
  },
  {
   "cell_type": "markdown",
   "metadata": {},
   "source": [
    "## Simulation Results\n",
    "### BOOT and H Supply"
   ]
  },
  {
   "cell_type": "code",
   "execution_count": null,
   "metadata": {},
   "outputs": [
    {
     "data": {
      "image/png": "[encoded data removed]",
      "text/plain": [
       "<Figure size 1152x360 with 2 Axes>"
      ]
     },
     "metadata": {},
     "output_type": "display_data"
    }
   ],
   "source": [
    "boot_supply_plot(simulation_result_df)\n",
    "hydrogen_supply_plot(simulation_result_df)"
   ]
  },
  {
   "cell_type": "markdown",
   "metadata": {},
   "source": [
    "### BOOT Capitalization"
   ]
  },
  {
   "cell_type": "code",
   "execution_count": null,
   "metadata": {
    "pycharm": {
     "name": "#%%\n"
    }
   },
   "outputs": [],
   "source": [
    "agents_count_plot(simulation_result_df)\n",
    "capitalization_plot(simulation_result_df)\n",
    "gboot_price_plot(simulation_result_df)"
   ]
  },
  {
   "cell_type": "markdown",
   "metadata": {
    "pycharm": {
     "name": "#%% md\n"
    }
   },
   "source": [
    "### cyberLinks"
   ]
  },
  {
   "cell_type": "code",
   "execution_count": null,
   "metadata": {
    "pycharm": {
     "name": "#%%\n"
    }
   },
   "outputs": [],
   "source": [
    "cyberlinks_per_day_plot(simulation_result_df)\n",
    "cyberlinks_count_plot(simulation_result_df)"
   ]
  },
  {
   "cell_type": "markdown",
   "metadata": {
    "pycharm": {
     "name": "#%% md\n"
    }
   },
   "source": [
    "### V Supply"
   ]
  },
  {
   "cell_type": "code",
   "execution_count": null,
   "metadata": {
    "pycharm": {
     "name": "#%%\n"
    }
   },
   "outputs": [],
   "source": [
    "volt_supply_plot(simulation_result_df)\n",
    "volt_mint_rate_plot(simulation_result_df)"
   ]
  },
  {
   "cell_type": "markdown",
   "metadata": {
    "pycharm": {
     "name": "#%% md\n"
    }
   },
   "source": [
    "### A Supply"
   ]
  },
  {
   "cell_type": "code",
   "execution_count": null,
   "metadata": {
    "pycharm": {
     "name": "#%%\n"
    }
   },
   "outputs": [],
   "source": [
    "ampere_supply_plot(simulation_result_df)\n",
    "ampere_mint_rate_plot(simulation_result_df)"
   ]
  },
  {
   "cell_type": "markdown",
   "metadata": {
    "pycharm": {
     "name": "#%% md\n"
    }
   },
   "source": [
    "### GPU Usage"
   ]
  },
  {
   "cell_type": "code",
   "execution_count": null,
   "metadata": {
    "pycharm": {
     "name": "#%%\n"
    }
   },
   "outputs": [],
   "source": [
    "gpu_memory_usage_plot(simulation_result_df)"
   ]
  },
  {
   "cell_type": "code",
   "execution_count": null,
   "metadata": {
    "pycharm": {
     "name": "#%%\n"
    }
   },
   "outputs": [],
   "source": []
  }
 ],
 "metadata": {
  "interpreter": {
   "hash": "d98c56a4769b38fac21279e6823c952df86026900cea4bf757502de5de0e52ff"
  },
  "kernelspec": {
   "display_name": "Python 3",
   "language": "python",
   "name": "python3"
  },
  "language_info": {
   "codemirror_mode": {
    "name": "ipython",
    "version": 3
   },
   "file_extension": ".py",
   "mimetype": "text/x-python",
   "name": "python",
   "nbconvert_exporter": "python",
   "pygments_lexer": "ipython3",
   "version": "3.8.0"
  }
 },
 "nbformat": 4,
 "nbformat_minor": 4
}
